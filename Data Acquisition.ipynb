{
 "cells": [
  {
   "cell_type": "markdown",
   "metadata": {},
   "source": [
    "# Data Acquisition\n",
    "\n",
    "The data that we will be using in the project will come from files provided in the kaggle challenge, \"Predict Future Sales: Final project for \"How to win a data science competition\" Coursera course.\" The challenge includes a training set file of daily sales data, a test set file of store-item pairs, and a set of files as supplemental information for shops, item categories, and individual items. Since test set contains only store-item pairs and no target variable, we will focus only with training file. We will use training file to train our models and also use the last month sales record as hold out set to compare models."
   ]
  },
  {
   "cell_type": "code",
   "execution_count": 2,
   "metadata": {},
   "outputs": [
    {
     "name": "stdout",
     "output_type": "stream",
     "text": [
      "Populating the interactive namespace from numpy and matplotlib\n"
     ]
    }
   ],
   "source": [
    "% pylab inline\n",
    "import numpy as np\n",
    "import matplotlib.pyplot as plt\n",
    "import pandas as pd\n",
    "import warnings\n",
    "warnings.filterwarnings('ignore')"
   ]
  },
  {
   "cell_type": "code",
   "execution_count": 3,
   "metadata": {},
   "outputs": [
    {
     "data": {
      "text/html": [
       "<div>\n",
       "<style scoped>\n",
       "    .dataframe tbody tr th:only-of-type {\n",
       "        vertical-align: middle;\n",
       "    }\n",
       "\n",
       "    .dataframe tbody tr th {\n",
       "        vertical-align: top;\n",
       "    }\n",
       "\n",
       "    .dataframe thead th {\n",
       "        text-align: right;\n",
       "    }\n",
       "</style>\n",
       "<table border=\"1\" class=\"dataframe\">\n",
       "  <thead>\n",
       "    <tr style=\"text-align: right;\">\n",
       "      <th></th>\n",
       "      <th>date</th>\n",
       "      <th>date_block_num</th>\n",
       "      <th>shop_id</th>\n",
       "      <th>item_id</th>\n",
       "      <th>item_price</th>\n",
       "      <th>item_cnt_day</th>\n",
       "    </tr>\n",
       "  </thead>\n",
       "  <tbody>\n",
       "    <tr>\n",
       "      <th>0</th>\n",
       "      <td>02.01.2013</td>\n",
       "      <td>0</td>\n",
       "      <td>59</td>\n",
       "      <td>22154</td>\n",
       "      <td>999.00</td>\n",
       "      <td>1.0</td>\n",
       "    </tr>\n",
       "    <tr>\n",
       "      <th>1</th>\n",
       "      <td>03.01.2013</td>\n",
       "      <td>0</td>\n",
       "      <td>25</td>\n",
       "      <td>2552</td>\n",
       "      <td>899.00</td>\n",
       "      <td>1.0</td>\n",
       "    </tr>\n",
       "    <tr>\n",
       "      <th>2</th>\n",
       "      <td>05.01.2013</td>\n",
       "      <td>0</td>\n",
       "      <td>25</td>\n",
       "      <td>2552</td>\n",
       "      <td>899.00</td>\n",
       "      <td>-1.0</td>\n",
       "    </tr>\n",
       "    <tr>\n",
       "      <th>3</th>\n",
       "      <td>06.01.2013</td>\n",
       "      <td>0</td>\n",
       "      <td>25</td>\n",
       "      <td>2554</td>\n",
       "      <td>1709.05</td>\n",
       "      <td>1.0</td>\n",
       "    </tr>\n",
       "    <tr>\n",
       "      <th>4</th>\n",
       "      <td>15.01.2013</td>\n",
       "      <td>0</td>\n",
       "      <td>25</td>\n",
       "      <td>2555</td>\n",
       "      <td>1099.00</td>\n",
       "      <td>1.0</td>\n",
       "    </tr>\n",
       "  </tbody>\n",
       "</table>\n",
       "</div>"
      ],
      "text/plain": [
       "         date  date_block_num  shop_id  item_id  item_price  item_cnt_day\n",
       "0  02.01.2013               0       59    22154      999.00           1.0\n",
       "1  03.01.2013               0       25     2552      899.00           1.0\n",
       "2  05.01.2013               0       25     2552      899.00          -1.0\n",
       "3  06.01.2013               0       25     2554     1709.05           1.0\n",
       "4  15.01.2013               0       25     2555     1099.00           1.0"
      ]
     },
     "execution_count": 3,
     "metadata": {},
     "output_type": "execute_result"
    }
   ],
   "source": [
    "df_train = pd.read_csv('sales_train_v2.csv')\n",
    "df_train.head()"
   ]
  },
  {
   "cell_type": "code",
   "execution_count": 16,
   "metadata": {
    "scrolled": true
   },
   "outputs": [
    {
     "name": "stdout",
     "output_type": "stream",
     "text": [
      "            date_block_num  shop_id  item_id  item_price  item_cnt_day\n",
      "date                                                                  \n",
      "2013-01-01               0       18     5823      2500.0           1.0\n",
      "2013-01-01               0       27     5573       849.0           1.0\n",
      "2013-01-01               0        7     1006       399.0           1.0\n",
      "2013-01-01               0       19    17707       899.0           1.0\n",
      "2013-01-01               0       14    19548       149.0           1.0\n",
      "<class 'pandas.core.frame.DataFrame'>\n",
      "DatetimeIndex: 2935849 entries, 2013-01-01 to 2015-10-31\n",
      "Data columns (total 5 columns):\n",
      "date_block_num    int64\n",
      "shop_id           int64\n",
      "item_id           int64\n",
      "item_price        float64\n",
      "item_cnt_day      float64\n",
      "dtypes: float64(2), int64(3)\n",
      "memory usage: 134.4 MB\n",
      "None\n"
     ]
    }
   ],
   "source": [
    "df_train.date = pd.to_datetime(df_train.date, format = '%d.%m.%Y')\n",
    "df_train.set_index('date', inplace=True)\n",
    "df_train = df_train.sort_index()\n",
    "print(df_train.head())\n",
    "print(df_train.info())"
   ]
  },
  {
   "cell_type": "code",
   "execution_count": 17,
   "metadata": {},
   "outputs": [
    {
     "data": {
      "text/plain": [
       "date_block_num    0\n",
       "shop_id           0\n",
       "item_id           0\n",
       "item_price        0\n",
       "item_cnt_day      0\n",
       "dtype: int64"
      ]
     },
     "execution_count": 17,
     "metadata": {},
     "output_type": "execute_result"
    }
   ],
   "source": [
    "df_train.isnull().sum()"
   ]
  },
  {
   "cell_type": "markdown",
   "metadata": {},
   "source": [
    "There are no null values in the data set."
   ]
  },
  {
   "cell_type": "code",
   "execution_count": 18,
   "metadata": {},
   "outputs": [
    {
     "data": {
      "text/plain": [
       "60"
      ]
     },
     "execution_count": 18,
     "metadata": {},
     "output_type": "execute_result"
    }
   ],
   "source": [
    "# Total number of shops in training set\n",
    "len(df_train.shop_id.unique())"
   ]
  },
  {
   "cell_type": "code",
   "execution_count": 19,
   "metadata": {},
   "outputs": [
    {
     "data": {
      "text/plain": [
       "43"
      ]
     },
     "execution_count": 19,
     "metadata": {},
     "output_type": "execute_result"
    }
   ],
   "source": [
    "# Number of shops that have sales record in Sept 2015\n",
    "setp_data = df_train.loc[df_train['date_block_num'] ==32]\n",
    "setp_shops = setp_data.shop_id.unique()\n",
    "len(setp_shops)"
   ]
  },
  {
   "cell_type": "code",
   "execution_count": 20,
   "metadata": {},
   "outputs": [
    {
     "data": {
      "text/plain": [
       "44"
      ]
     },
     "execution_count": 20,
     "metadata": {},
     "output_type": "execute_result"
    }
   ],
   "source": [
    "# Number of shops that have sales record in Oct 2015 (last month)\n",
    "oct_data = df_train.loc[df_train['date_block_num'] ==33]\n",
    "oct_shops = oct_data.shop_id.unique()\n",
    "len(oct_shops)"
   ]
  },
  {
   "cell_type": "markdown",
   "metadata": {},
   "source": [
    "There are total of 60 shops in the entire training data. However, there are only 43 and 44 shops remaining in the last two months of the data. Therefore, we will use only the overlapping shops between the last two months for our project."
   ]
  },
  {
   "cell_type": "code",
   "execution_count": 21,
   "metadata": {},
   "outputs": [
    {
     "name": "stdout",
     "output_type": "stream",
     "text": [
      "41\n"
     ]
    }
   ],
   "source": [
    "# Number of overlapping shops between Sept and Oct of 2015\n",
    "overlap_shops = np.intersect1d(setp_shops,oct_shops)\n",
    "print(len(overlap_shops))"
   ]
  },
  {
   "cell_type": "markdown",
   "metadata": {},
   "source": [
    "There are only 41 shops that overlapped in both months, we will extract only the 41 shops from the training data."
   ]
  },
  {
   "cell_type": "code",
   "execution_count": 22,
   "metadata": {},
   "outputs": [],
   "source": [
    "df_shops = df_train.loc[df_train['shop_id'].isin(overlap_shops)]"
   ]
  },
  {
   "cell_type": "markdown",
   "metadata": {},
   "source": [
    "Next, we will look at the breadth of SKUs, which are the item IDs in this case."
   ]
  },
  {
   "cell_type": "code",
   "execution_count": 23,
   "metadata": {},
   "outputs": [
    {
     "data": {
      "text/plain": [
       "21807"
      ]
     },
     "execution_count": 23,
     "metadata": {},
     "output_type": "execute_result"
    }
   ],
   "source": [
    "# Total number of items in training set\n",
    "len(df_train.item_id.unique())"
   ]
  },
  {
   "cell_type": "code",
   "execution_count": 24,
   "metadata": {},
   "outputs": [
    {
     "name": "stdout",
     "output_type": "stream",
     "text": [
      "Number of different items in Sept 2015: 5085\n",
      "Number of different items in Oct 2015: 5413\n",
      "Number of overlapping items in the last two months of data: 4041\n"
     ]
    }
   ],
   "source": [
    "setp_items = setp_data.item_id.unique()\n",
    "print('Number of different items in Sept 2015: %i' % len(setp_items))\n",
    "\n",
    "oct_items = oct_data.item_id.unique()\n",
    "print('Number of different items in Oct 2015: %i' % len(oct_items))\n",
    "\n",
    "overlap_items = np.intersect1d(setp_items,oct_items)\n",
    "print('Number of overlapping items in the last two months of data: %i' % len(overlap_items))"
   ]
  },
  {
   "cell_type": "markdown",
   "metadata": {},
   "source": [
    "There are way fewer items sold in both of the last two months compared to the entire SKUs. However, that is still way more store-item pairs than we are able to handle with bottom up method in calculating monthly sales of items in each shop. Therefore, we will limit the number of time series that we forecast to the top 50 popular items sold overall."
   ]
  },
  {
   "cell_type": "code",
   "execution_count": 25,
   "metadata": {},
   "outputs": [
    {
     "name": "stdout",
     "output_type": "stream",
     "text": [
      "   item_id  item_cnt\n",
      "0    20949    154061\n",
      "1     2808     13954\n",
      "2     3732     13580\n",
      "3    17717     13552\n",
      "4     5822     12267\n"
     ]
    }
   ],
   "source": [
    "# Obtain total number sold per item from data set\n",
    "df_item = df_shops.loc[df_shops['item_id'].isin(overlap_items)]\n",
    "df_item = df_item.groupby(['item_id'])['item_cnt_day'].sum().sort_index()\n",
    "df_item = pd.DataFrame(df_item)\n",
    "df_item = df_item.rename(index=str, columns={\"item_cnt_day\": \"item_cnt\"})\n",
    "df_item = df_item.reset_index().astype('int64')\n",
    "\n",
    "# Sort items by numbers sold\n",
    "top_selling_items = df_item.sort_values(by=['item_cnt'], ascending=False)\n",
    "\n",
    "# Obtain top 50 most popular items and number sold\n",
    "top_selling_50 = top_selling_items.head(50)\n",
    "\n",
    "top_selling_50 = top_selling_50[['item_id', 'item_cnt']].reset_index()\n",
    "top_selling_50 = top_selling_50[['item_id', 'item_cnt']]\n",
    "print(top_selling_50.head())"
   ]
  },
  {
   "cell_type": "code",
   "execution_count": 26,
   "metadata": {},
   "outputs": [],
   "source": [
    "# Filter data set with top selling items\n",
    "df = df_shops.loc[df_shops['item_id'].isin(top_selling_50.item_id)]"
   ]
  },
  {
   "cell_type": "code",
   "execution_count": 27,
   "metadata": {},
   "outputs": [
    {
     "data": {
      "text/html": [
       "<div>\n",
       "<style scoped>\n",
       "    .dataframe tbody tr th:only-of-type {\n",
       "        vertical-align: middle;\n",
       "    }\n",
       "\n",
       "    .dataframe tbody tr th {\n",
       "        vertical-align: top;\n",
       "    }\n",
       "\n",
       "    .dataframe thead th {\n",
       "        text-align: right;\n",
       "    }\n",
       "</style>\n",
       "<table border=\"1\" class=\"dataframe\">\n",
       "  <thead>\n",
       "    <tr style=\"text-align: right;\">\n",
       "      <th></th>\n",
       "      <th>date_block_num</th>\n",
       "      <th>shop_id</th>\n",
       "      <th>item_id</th>\n",
       "      <th>item_price</th>\n",
       "      <th>item_cnt_day</th>\n",
       "    </tr>\n",
       "    <tr>\n",
       "      <th>date</th>\n",
       "      <th></th>\n",
       "      <th></th>\n",
       "      <th></th>\n",
       "      <th></th>\n",
       "      <th></th>\n",
       "    </tr>\n",
       "  </thead>\n",
       "  <tbody>\n",
       "    <tr>\n",
       "      <th>2013-01-01</th>\n",
       "      <td>0</td>\n",
       "      <td>18</td>\n",
       "      <td>5823</td>\n",
       "      <td>2500.0</td>\n",
       "      <td>1.0</td>\n",
       "    </tr>\n",
       "    <tr>\n",
       "      <th>2013-01-01</th>\n",
       "      <td>0</td>\n",
       "      <td>46</td>\n",
       "      <td>1830</td>\n",
       "      <td>599.0</td>\n",
       "      <td>3.0</td>\n",
       "    </tr>\n",
       "    <tr>\n",
       "      <th>2013-01-01</th>\n",
       "      <td>0</td>\n",
       "      <td>14</td>\n",
       "      <td>1830</td>\n",
       "      <td>599.0</td>\n",
       "      <td>2.0</td>\n",
       "    </tr>\n",
       "    <tr>\n",
       "      <th>2013-01-01</th>\n",
       "      <td>0</td>\n",
       "      <td>14</td>\n",
       "      <td>1905</td>\n",
       "      <td>249.0</td>\n",
       "      <td>1.0</td>\n",
       "    </tr>\n",
       "    <tr>\n",
       "      <th>2013-01-01</th>\n",
       "      <td>0</td>\n",
       "      <td>14</td>\n",
       "      <td>2808</td>\n",
       "      <td>999.0</td>\n",
       "      <td>2.0</td>\n",
       "    </tr>\n",
       "  </tbody>\n",
       "</table>\n",
       "</div>"
      ],
      "text/plain": [
       "            date_block_num  shop_id  item_id  item_price  item_cnt_day\n",
       "date                                                                  \n",
       "2013-01-01               0       18     5823      2500.0           1.0\n",
       "2013-01-01               0       46     1830       599.0           3.0\n",
       "2013-01-01               0       14     1830       599.0           2.0\n",
       "2013-01-01               0       14     1905       249.0           1.0\n",
       "2013-01-01               0       14     2808       999.0           2.0"
      ]
     },
     "execution_count": 27,
     "metadata": {},
     "output_type": "execute_result"
    }
   ],
   "source": [
    "df.head()"
   ]
  },
  {
   "cell_type": "code",
   "execution_count": 28,
   "metadata": {},
   "outputs": [
    {
     "name": "stdout",
     "output_type": "stream",
     "text": [
      "   shop_id  item_id  item_cnt\n",
      "0        2     2269       4.0\n",
      "1        2     2445       1.0\n",
      "2        2     2808       1.0\n",
      "3        2     3341       4.0\n",
      "4        2     3343       2.0\n",
      "1025\n"
     ]
    }
   ],
   "source": [
    "# Calculate weights: obtain total sales of each item in the last month in training set (2015-9), obtain last month sales of item in each shop, \n",
    "#    divide each last month sales by total item sales\n",
    "df_hold = df.loc[df['date_block_num'] == 33]\n",
    "df_hold = df_hold.groupby(['shop_id','item_id'])['item_cnt_day'].sum().sort_index()\n",
    "df_hold = df_hold.reset_index()\n",
    "df_hold = df_hold.rename(index=str, columns={\"item_cnt_day\": \"item_cnt\"})\n",
    "print(df_hold.head())\n",
    "print(len(df_hold))"
   ]
  },
  {
   "cell_type": "code",
   "execution_count": 29,
   "metadata": {},
   "outputs": [
    {
     "data": {
      "text/plain": [
       "40"
      ]
     },
     "execution_count": 29,
     "metadata": {},
     "output_type": "execute_result"
    }
   ],
   "source": [
    "len(df_hold.shop_id.unique())"
   ]
  },
  {
   "cell_type": "markdown",
   "metadata": {},
   "source": [
    "After filtering the data from number of shops available in the last two months and the top selling items, there are only total of 40 shops that carried those items. In the end, there are total of 1025 different store-item pairs for calculation. Both filted data set and hold out set will be pickled for later use."
   ]
  },
  {
   "cell_type": "code",
   "execution_count": 30,
   "metadata": {},
   "outputs": [],
   "source": [
    "import pickle\n",
    "df.to_pickle('df.pkl')\n",
    "df_hold.to_pickle('df_hold.pkl')"
   ]
  },
  {
   "cell_type": "code",
   "execution_count": null,
   "metadata": {},
   "outputs": [],
   "source": []
  }
 ],
 "metadata": {
  "kernelspec": {
   "display_name": "Python 3",
   "language": "python",
   "name": "python3"
  },
  "language_info": {
   "codemirror_mode": {
    "name": "ipython",
    "version": 3
   },
   "file_extension": ".py",
   "mimetype": "text/x-python",
   "name": "python",
   "nbconvert_exporter": "python",
   "pygments_lexer": "ipython3",
   "version": "3.6.6"
  }
 },
 "nbformat": 4,
 "nbformat_minor": 2
}
