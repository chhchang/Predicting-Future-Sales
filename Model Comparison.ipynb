{
 "cells": [
  {
   "cell_type": "markdown",
   "metadata": {},
   "source": [
    "# Comparison of Different Regression Algorithms"
   ]
  },
  {
   "cell_type": "code",
   "execution_count": 1,
   "metadata": {},
   "outputs": [
    {
     "name": "stdout",
     "output_type": "stream",
     "text": [
      "Populating the interactive namespace from numpy and matplotlib\n"
     ]
    }
   ],
   "source": [
    "% pylab inline\n",
    "import numpy as np\n",
    "import matplotlib.pyplot as plt\n",
    "import pandas as pd\n",
    "import seaborn as sns\n",
    "import warnings\n",
    "import pickle\n",
    "\n",
    "warnings.filterwarnings('ignore')"
   ]
  },
  {
   "cell_type": "markdown",
   "metadata": {},
   "source": [
    "## Loading Data For Each Models"
   ]
  },
  {
   "cell_type": "code",
   "execution_count": 2,
   "metadata": {},
   "outputs": [
    {
     "name": "stdout",
     "output_type": "stream",
     "text": [
      "            date_block_num  shop_id  item_id  item_price  item_cnt_day\n",
      "date                                                                  \n",
      "2013-01-01               0       18     5823      2500.0           1.0\n",
      "2013-01-01               0       46     1830       599.0           3.0\n",
      "2013-01-01               0       14     1830       599.0           2.0\n",
      "2013-01-01               0       14     1905       249.0           1.0\n",
      "2013-01-01               0       14     2808       999.0           2.0\n"
     ]
    }
   ],
   "source": [
    "# Load data set\n",
    "df = pickle.load(open('df.pkl','rb'))\n",
    "print(df.head())"
   ]
  },
  {
   "cell_type": "code",
   "execution_count": 3,
   "metadata": {
    "scrolled": true
   },
   "outputs": [
    {
     "name": "stdout",
     "output_type": "stream",
     "text": [
      "            item_cnt_day\n",
      "date                    \n",
      "2015-10-31          10.0\n",
      "            item_cnt_day\n",
      "2015-10-31           0.0\n",
      "            item_cnt_day\n",
      "date                    \n",
      "2015-10-31           2.0\n",
      "            item_cnt_day\n",
      "date                    \n",
      "2015-10-31           2.0\n",
      "            item_cnt_day\n",
      "date                    \n",
      "2015-10-31          15.0\n",
      "            item_cnt_day\n",
      "date                    \n",
      "2015-10-31           6.0\n",
      "            item_cnt_day\n",
      "2015-10-31           0.0\n",
      "            item_cnt_day\n",
      "date                    \n",
      "2015-10-31           2.0\n",
      "            item_cnt_day\n",
      "date                    \n",
      "2015-10-31          11.0\n",
      "            item_cnt_day\n",
      "date                    \n",
      "2015-10-31          28.0\n",
      "            item_cnt_day\n",
      "2015-10-31           0.0\n",
      "            item_cnt_day\n",
      "2015-10-31           0.0\n",
      "            item_cnt_day\n",
      "date                    \n",
      "2015-10-31           1.0\n",
      "            item_cnt_day\n",
      "2015-10-31           0.0\n",
      "            item_cnt_day\n",
      "date                    \n",
      "2015-10-31           7.0\n",
      "            item_cnt_day\n",
      "date                    \n",
      "2015-10-31          11.0\n",
      "            item_cnt_day\n",
      "2015-10-31           0.0\n",
      "            item_cnt_day\n",
      "2015-10-31           0.0\n",
      "            item_cnt_day\n",
      "date                    \n",
      "2015-10-31           2.0\n",
      "            item_cnt_day\n",
      "date                    \n",
      "2015-10-31           1.0\n",
      "            item_cnt_day\n",
      "date                    \n",
      "2015-10-31           1.0\n",
      "            item_cnt_day\n",
      "2015-10-31           0.0\n",
      "            item_cnt_day\n",
      "date                    \n",
      "2015-10-31         158.0\n",
      "            item_cnt_day\n",
      "date                    \n",
      "2015-10-31           4.0\n",
      "            item_cnt_day\n",
      "2015-10-31           0.0\n",
      "            item_cnt_day\n",
      "2015-10-31           0.0\n",
      "            item_cnt_day\n",
      "date                    \n",
      "2015-10-31           7.0\n",
      "            item_cnt_day\n",
      "date                    \n",
      "2015-10-31           3.0\n",
      "            item_cnt_day\n",
      "date                    \n",
      "2015-10-31           9.0\n",
      "            item_cnt_day\n",
      "2015-10-31           0.0\n",
      "            item_cnt_day\n",
      "date                    \n",
      "2015-10-31           3.0\n",
      "            item_cnt_day\n",
      "date                    \n",
      "2015-10-31           2.0\n",
      "            item_cnt_day\n",
      "2015-10-31           0.0\n",
      "            item_cnt_day\n",
      "2015-10-31           0.0\n",
      "            item_cnt_day\n",
      "2015-10-31           0.0\n",
      "            item_cnt_day\n",
      "date                    \n",
      "2015-10-31           2.0\n",
      "            item_cnt_day\n",
      "2015-10-31           0.0\n",
      "            item_cnt_day\n",
      "2015-10-31           0.0\n",
      "            item_cnt_day\n",
      "date                    \n",
      "2015-10-31           6.0\n",
      "            item_cnt_day\n",
      "2015-10-31           0.0\n",
      "            item_cnt_day\n",
      "date                    \n",
      "2015-10-31           4.0\n",
      "            item_cnt_day\n",
      "date                    \n",
      "2015-10-31           1.0\n",
      "            item_cnt_day\n",
      "date                    \n",
      "2015-10-31           5.0\n",
      "            item_cnt_day\n",
      "date                    \n",
      "2015-10-31           3.0\n",
      "            item_cnt_day\n",
      "date                    \n",
      "2015-10-31           3.0\n",
      "            item_cnt_day\n",
      "2015-10-31           0.0\n",
      "            item_cnt_day\n",
      "date                    \n",
      "2015-10-31           1.0\n",
      "            item_cnt_day\n",
      "date                    \n",
      "2015-10-31           4.0\n",
      "            item_cnt_day\n",
      "date                    \n",
      "2015-10-31           4.0\n",
      "            item_cnt_day\n",
      "date                    \n",
      "2015-10-31           5.0\n"
     ]
    }
   ],
   "source": [
    "# Create dataframe dictionary of all shop-item pairs up to 2015-10-31\n",
    "DataFrameDict = {elem : pd.DataFrame for elem in df.item_id.unique()}\n",
    "\n",
    "last_day = pd.DataFrame(index=['2015-10-31'])\n",
    "\n",
    "for key in DataFrameDict.keys():\n",
    "    DataFrameDict[key] = df[:][df.item_id == key]\n",
    "    DataFrameDict[key] = DataFrameDict[key].groupby(['date'])['item_cnt_day'].sum().sort_index()\n",
    "    DataFrameDict[key] = DataFrameDict[key].reset_index()\n",
    "    DataFrameDict[key].index = DataFrameDict[key]['date']\n",
    "    DataFrameDict[key] = DataFrameDict[key].drop('date', axis=1)\n",
    "    pd.to_datetime(DataFrameDict[key].index)    \n",
    "    if '2015-10-31' in DataFrameDict[key].index:\n",
    "        pass\n",
    "    else: \n",
    "        DataFrameDict[key] = DataFrameDict[key].append(last_day)\n",
    "    DataFrameDict[key] = DataFrameDict[key].asfreq('D').fillna(0)\n",
    "    print(DataFrameDict[key].tail(1))"
   ]
  },
  {
   "cell_type": "markdown",
   "metadata": {},
   "source": [
    "### Prepare data for random forest and gradient boosting"
   ]
  },
  {
   "cell_type": "code",
   "execution_count": 4,
   "metadata": {},
   "outputs": [
    {
     "data": {
      "text/html": [
       "<div>\n",
       "<style scoped>\n",
       "    .dataframe tbody tr th:only-of-type {\n",
       "        vertical-align: middle;\n",
       "    }\n",
       "\n",
       "    .dataframe tbody tr th {\n",
       "        vertical-align: top;\n",
       "    }\n",
       "\n",
       "    .dataframe thead th {\n",
       "        text-align: right;\n",
       "    }\n",
       "</style>\n",
       "<table border=\"1\" class=\"dataframe\">\n",
       "  <thead>\n",
       "    <tr style=\"text-align: right;\">\n",
       "      <th></th>\n",
       "      <th>date_block_num</th>\n",
       "      <th>shop_id</th>\n",
       "      <th>item_id</th>\n",
       "      <th>item_price</th>\n",
       "      <th>item_cnt_day</th>\n",
       "    </tr>\n",
       "  </thead>\n",
       "  <tbody>\n",
       "    <tr>\n",
       "      <th>0</th>\n",
       "      <td>0</td>\n",
       "      <td>2</td>\n",
       "      <td>1905</td>\n",
       "      <td>249.000000</td>\n",
       "      <td>3.0</td>\n",
       "    </tr>\n",
       "    <tr>\n",
       "      <th>1</th>\n",
       "      <td>0</td>\n",
       "      <td>2</td>\n",
       "      <td>1916</td>\n",
       "      <td>249.000000</td>\n",
       "      <td>3.0</td>\n",
       "    </tr>\n",
       "    <tr>\n",
       "      <th>2</th>\n",
       "      <td>0</td>\n",
       "      <td>2</td>\n",
       "      <td>2308</td>\n",
       "      <td>799.000000</td>\n",
       "      <td>3.0</td>\n",
       "    </tr>\n",
       "    <tr>\n",
       "      <th>3</th>\n",
       "      <td>0</td>\n",
       "      <td>2</td>\n",
       "      <td>2416</td>\n",
       "      <td>449.000000</td>\n",
       "      <td>1.0</td>\n",
       "    </tr>\n",
       "    <tr>\n",
       "      <th>4</th>\n",
       "      <td>0</td>\n",
       "      <td>2</td>\n",
       "      <td>2808</td>\n",
       "      <td>998.981481</td>\n",
       "      <td>17.0</td>\n",
       "    </tr>\n",
       "  </tbody>\n",
       "</table>\n",
       "</div>"
      ],
      "text/plain": [
       "   date_block_num  shop_id  item_id  item_price  item_cnt_day\n",
       "0               0        2     1905  249.000000           3.0\n",
       "1               0        2     1916  249.000000           3.0\n",
       "2               0        2     2308  799.000000           3.0\n",
       "3               0        2     2416  449.000000           1.0\n",
       "4               0        2     2808  998.981481          17.0"
      ]
     },
     "execution_count": 4,
     "metadata": {},
     "output_type": "execute_result"
    }
   ],
   "source": [
    "aggregation = {'item_price':'mean',\n",
    "               'item_cnt_day':'sum'}\n",
    "\n",
    "train_model = df.groupby(['date_block_num','shop_id','item_id']).agg(aggregation)\n",
    "train_model = train_model.reset_index()\n",
    "train_model.head()"
   ]
  },
  {
   "cell_type": "code",
   "execution_count": 5,
   "metadata": {},
   "outputs": [
    {
     "name": "stdout",
     "output_type": "stream",
     "text": [
      "               shop_id item_id item_cnt_day                                \\\n",
      "date_block_num                            0    1    2    3    4    5    6   \n",
      "0                    2    1495          NaN  NaN  NaN  NaN  NaN  NaN  NaN   \n",
      "1                    2    1830          NaN  NaN  3.0  2.0  3.0  2.0  2.0   \n",
      "2                    2    1855          NaN  NaN  NaN  NaN  NaN  NaN  NaN   \n",
      "3                    2    1905          3.0  NaN  NaN  2.0  NaN  3.0  2.0   \n",
      "4                    2    1916          3.0  2.0  2.0  2.0  2.0  NaN  2.0   \n",
      "\n",
      "                    ... item_price                                       \\\n",
      "date_block_num    7 ...         24       25     26     27     28     29   \n",
      "0               NaN ...        NaN      NaN    NaN  499.0    NaN    NaN   \n",
      "1               7.0 ...        NaN      NaN    NaN    NaN    NaN    NaN   \n",
      "2               NaN ...      799.0  627.825  399.5    NaN    NaN    NaN   \n",
      "3               1.0 ...      249.0  249.000  249.0  249.0  249.0  249.0   \n",
      "4               3.0 ...        NaN  249.000  249.0  249.0  249.0    NaN   \n",
      "\n",
      "                                         \n",
      "date_block_num     30     31     32  33  \n",
      "0                 NaN  499.0    NaN NaN  \n",
      "1                 NaN    NaN    NaN NaN  \n",
      "2                 NaN    NaN  399.0 NaN  \n",
      "3               249.0    NaN    NaN NaN  \n",
      "4                 NaN    NaN    NaN NaN  \n",
      "\n",
      "[5 rows x 70 columns]\n",
      "1919\n"
     ]
    }
   ],
   "source": [
    "df_pivot = pd.pivot_table(data=pd.DataFrame(train_model),index=['shop_id','item_id'], \n",
    "                           columns=['date_block_num'], values=['item_cnt_day','item_price'])\n",
    "df_pivot = df_pivot.reset_index()\n",
    "\n",
    "print(df_pivot.head())\n",
    "print(len(df_pivot))"
   ]
  },
  {
   "cell_type": "code",
   "execution_count": 6,
   "metadata": {},
   "outputs": [],
   "source": [
    "df_index = df_pivot[['shop_id','item_id']]\n",
    "\n",
    "df_sales = df_pivot.loc[:,['item_cnt_day']]\n",
    "df_sales = df_sales.fillna(0)\n",
    "df_index.columns = df_index.columns.get_level_values(0)\n",
    "df_sales.columns = df_sales.columns.get_level_values(1)\n",
    "df_sales = pd.merge(df_index, df_sales, on=df_index.index).drop('key_0', axis=1)\n",
    "\n",
    "df_price = df_pivot.loc[:,['item_price']]\n",
    "df_index.columns = df_index.columns.get_level_values(0)\n",
    "df_price.columns = df_price.columns.get_level_values(1)\n",
    "df_price = pd.merge(df_index, df_price, on=df_index.index).drop('key_0', axis=1)"
   ]
  },
  {
   "cell_type": "code",
   "execution_count": 7,
   "metadata": {},
   "outputs": [
    {
     "data": {
      "text/html": [
       "<div>\n",
       "<style scoped>\n",
       "    .dataframe tbody tr th:only-of-type {\n",
       "        vertical-align: middle;\n",
       "    }\n",
       "\n",
       "    .dataframe tbody tr th {\n",
       "        vertical-align: top;\n",
       "    }\n",
       "\n",
       "    .dataframe thead th {\n",
       "        text-align: right;\n",
       "    }\n",
       "</style>\n",
       "<table border=\"1\" class=\"dataframe\">\n",
       "  <thead>\n",
       "    <tr style=\"text-align: right;\">\n",
       "      <th></th>\n",
       "      <th>shop_id</th>\n",
       "      <th>item_id</th>\n",
       "      <th>0</th>\n",
       "      <th>1</th>\n",
       "      <th>2</th>\n",
       "      <th>3</th>\n",
       "      <th>4</th>\n",
       "      <th>5</th>\n",
       "      <th>6</th>\n",
       "      <th>7</th>\n",
       "      <th>...</th>\n",
       "      <th>24</th>\n",
       "      <th>25</th>\n",
       "      <th>26</th>\n",
       "      <th>27</th>\n",
       "      <th>28</th>\n",
       "      <th>29</th>\n",
       "      <th>30</th>\n",
       "      <th>31</th>\n",
       "      <th>32</th>\n",
       "      <th>33</th>\n",
       "    </tr>\n",
       "  </thead>\n",
       "  <tbody>\n",
       "    <tr>\n",
       "      <th>0</th>\n",
       "      <td>2.0</td>\n",
       "      <td>1495.0</td>\n",
       "      <td>632.333333</td>\n",
       "      <td>632.333333</td>\n",
       "      <td>632.333333</td>\n",
       "      <td>632.333333</td>\n",
       "      <td>632.333333</td>\n",
       "      <td>632.333333</td>\n",
       "      <td>632.333333</td>\n",
       "      <td>632.333333</td>\n",
       "      <td>...</td>\n",
       "      <td>499.0</td>\n",
       "      <td>499.000</td>\n",
       "      <td>499.0</td>\n",
       "      <td>499.0</td>\n",
       "      <td>499.0</td>\n",
       "      <td>499.0</td>\n",
       "      <td>499.0</td>\n",
       "      <td>499.0</td>\n",
       "      <td>499.0</td>\n",
       "      <td>499.0</td>\n",
       "    </tr>\n",
       "    <tr>\n",
       "      <th>1</th>\n",
       "      <td>2.0</td>\n",
       "      <td>1830.0</td>\n",
       "      <td>449.250000</td>\n",
       "      <td>449.250000</td>\n",
       "      <td>449.250000</td>\n",
       "      <td>599.000000</td>\n",
       "      <td>599.000000</td>\n",
       "      <td>599.000000</td>\n",
       "      <td>399.560000</td>\n",
       "      <td>315.568750</td>\n",
       "      <td>...</td>\n",
       "      <td>599.0</td>\n",
       "      <td>599.000</td>\n",
       "      <td>599.0</td>\n",
       "      <td>599.0</td>\n",
       "      <td>599.0</td>\n",
       "      <td>599.0</td>\n",
       "      <td>599.0</td>\n",
       "      <td>599.0</td>\n",
       "      <td>599.0</td>\n",
       "      <td>599.0</td>\n",
       "    </tr>\n",
       "    <tr>\n",
       "      <th>2</th>\n",
       "      <td>2.0</td>\n",
       "      <td>1855.0</td>\n",
       "      <td>1199.000000</td>\n",
       "      <td>1199.000000</td>\n",
       "      <td>1199.000000</td>\n",
       "      <td>1199.000000</td>\n",
       "      <td>1199.000000</td>\n",
       "      <td>1199.000000</td>\n",
       "      <td>1199.000000</td>\n",
       "      <td>1199.000000</td>\n",
       "      <td>...</td>\n",
       "      <td>799.0</td>\n",
       "      <td>627.825</td>\n",
       "      <td>399.5</td>\n",
       "      <td>399.0</td>\n",
       "      <td>399.0</td>\n",
       "      <td>399.0</td>\n",
       "      <td>399.0</td>\n",
       "      <td>399.0</td>\n",
       "      <td>399.0</td>\n",
       "      <td>399.0</td>\n",
       "    </tr>\n",
       "    <tr>\n",
       "      <th>3</th>\n",
       "      <td>2.0</td>\n",
       "      <td>1905.0</td>\n",
       "      <td>249.000000</td>\n",
       "      <td>249.000000</td>\n",
       "      <td>249.000000</td>\n",
       "      <td>249.000000</td>\n",
       "      <td>249.000000</td>\n",
       "      <td>249.000000</td>\n",
       "      <td>249.000000</td>\n",
       "      <td>249.000000</td>\n",
       "      <td>...</td>\n",
       "      <td>249.0</td>\n",
       "      <td>249.000</td>\n",
       "      <td>249.0</td>\n",
       "      <td>249.0</td>\n",
       "      <td>249.0</td>\n",
       "      <td>249.0</td>\n",
       "      <td>249.0</td>\n",
       "      <td>249.0</td>\n",
       "      <td>249.0</td>\n",
       "      <td>249.0</td>\n",
       "    </tr>\n",
       "    <tr>\n",
       "      <th>4</th>\n",
       "      <td>2.0</td>\n",
       "      <td>1916.0</td>\n",
       "      <td>249.000000</td>\n",
       "      <td>249.000000</td>\n",
       "      <td>249.000000</td>\n",
       "      <td>249.000000</td>\n",
       "      <td>224.000000</td>\n",
       "      <td>249.000000</td>\n",
       "      <td>249.000000</td>\n",
       "      <td>249.000000</td>\n",
       "      <td>...</td>\n",
       "      <td>249.0</td>\n",
       "      <td>249.000</td>\n",
       "      <td>249.0</td>\n",
       "      <td>249.0</td>\n",
       "      <td>249.0</td>\n",
       "      <td>249.0</td>\n",
       "      <td>249.0</td>\n",
       "      <td>249.0</td>\n",
       "      <td>249.0</td>\n",
       "      <td>249.0</td>\n",
       "    </tr>\n",
       "  </tbody>\n",
       "</table>\n",
       "<p>5 rows × 36 columns</p>\n",
       "</div>"
      ],
      "text/plain": [
       "   shop_id  item_id            0            1            2            3  \\\n",
       "0      2.0   1495.0   632.333333   632.333333   632.333333   632.333333   \n",
       "1      2.0   1830.0   449.250000   449.250000   449.250000   599.000000   \n",
       "2      2.0   1855.0  1199.000000  1199.000000  1199.000000  1199.000000   \n",
       "3      2.0   1905.0   249.000000   249.000000   249.000000   249.000000   \n",
       "4      2.0   1916.0   249.000000   249.000000   249.000000   249.000000   \n",
       "\n",
       "             4            5            6            7  ...       24       25  \\\n",
       "0   632.333333   632.333333   632.333333   632.333333  ...    499.0  499.000   \n",
       "1   599.000000   599.000000   399.560000   315.568750  ...    599.0  599.000   \n",
       "2  1199.000000  1199.000000  1199.000000  1199.000000  ...    799.0  627.825   \n",
       "3   249.000000   249.000000   249.000000   249.000000  ...    249.0  249.000   \n",
       "4   224.000000   249.000000   249.000000   249.000000  ...    249.0  249.000   \n",
       "\n",
       "      26     27     28     29     30     31     32     33  \n",
       "0  499.0  499.0  499.0  499.0  499.0  499.0  499.0  499.0  \n",
       "1  599.0  599.0  599.0  599.0  599.0  599.0  599.0  599.0  \n",
       "2  399.5  399.0  399.0  399.0  399.0  399.0  399.0  399.0  \n",
       "3  249.0  249.0  249.0  249.0  249.0  249.0  249.0  249.0  \n",
       "4  249.0  249.0  249.0  249.0  249.0  249.0  249.0  249.0  \n",
       "\n",
       "[5 rows x 36 columns]"
      ]
     },
     "execution_count": 7,
     "metadata": {},
     "output_type": "execute_result"
    }
   ],
   "source": [
    "# Filling nan values with back filling on earlier months and forward filling on later months\n",
    "dT_price = df_price.transpose()\n",
    "df_price = dT_price.fillna(method='bfill').fillna(method='ffill')\n",
    "df_price = df_price.transpose()\n",
    "df_price.head()"
   ]
  },
  {
   "cell_type": "code",
   "execution_count": 8,
   "metadata": {},
   "outputs": [
    {
     "data": {
      "text/html": [
       "<div>\n",
       "<style scoped>\n",
       "    .dataframe tbody tr th:only-of-type {\n",
       "        vertical-align: middle;\n",
       "    }\n",
       "\n",
       "    .dataframe tbody tr th {\n",
       "        vertical-align: top;\n",
       "    }\n",
       "\n",
       "    .dataframe thead th {\n",
       "        text-align: right;\n",
       "    }\n",
       "</style>\n",
       "<table border=\"1\" class=\"dataframe\">\n",
       "  <thead>\n",
       "    <tr style=\"text-align: right;\">\n",
       "      <th></th>\n",
       "      <th>shop_id</th>\n",
       "      <th>item_id</th>\n",
       "      <th>Month</th>\n",
       "      <th>Sales</th>\n",
       "      <th>Prices</th>\n",
       "    </tr>\n",
       "  </thead>\n",
       "  <tbody>\n",
       "    <tr>\n",
       "      <th>0</th>\n",
       "      <td>2</td>\n",
       "      <td>1495</td>\n",
       "      <td>0</td>\n",
       "      <td>0.0</td>\n",
       "      <td>632.333333</td>\n",
       "    </tr>\n",
       "    <tr>\n",
       "      <th>1</th>\n",
       "      <td>2</td>\n",
       "      <td>1830</td>\n",
       "      <td>0</td>\n",
       "      <td>0.0</td>\n",
       "      <td>449.250000</td>\n",
       "    </tr>\n",
       "    <tr>\n",
       "      <th>2</th>\n",
       "      <td>2</td>\n",
       "      <td>1855</td>\n",
       "      <td>0</td>\n",
       "      <td>0.0</td>\n",
       "      <td>1199.000000</td>\n",
       "    </tr>\n",
       "    <tr>\n",
       "      <th>3</th>\n",
       "      <td>2</td>\n",
       "      <td>1905</td>\n",
       "      <td>0</td>\n",
       "      <td>3.0</td>\n",
       "      <td>249.000000</td>\n",
       "    </tr>\n",
       "    <tr>\n",
       "      <th>4</th>\n",
       "      <td>2</td>\n",
       "      <td>1916</td>\n",
       "      <td>0</td>\n",
       "      <td>3.0</td>\n",
       "      <td>249.000000</td>\n",
       "    </tr>\n",
       "  </tbody>\n",
       "</table>\n",
       "</div>"
      ],
      "text/plain": [
       "   shop_id  item_id Month  Sales       Prices\n",
       "0        2     1495     0    0.0   632.333333\n",
       "1        2     1830     0    0.0   449.250000\n",
       "2        2     1855     0    0.0  1199.000000\n",
       "3        2     1905     0    3.0   249.000000\n",
       "4        2     1916     0    3.0   249.000000"
      ]
     },
     "execution_count": 8,
     "metadata": {},
     "output_type": "execute_result"
    }
   ],
   "source": [
    "melt_sales = df_sales.melt(id_vars=['shop_id','item_id'], var_name='Month', value_name='Sales')\n",
    "\n",
    "melt_prices = df_price.melt(id_vars=['shop_id','item_id'], var_name='Month', value_name='Prices')\n",
    "\n",
    "melt = melt_sales.join(melt_prices['Prices'], on=melt_sales.index)\n",
    "melt.head()"
   ]
  },
  {
   "cell_type": "code",
   "execution_count": 9,
   "metadata": {},
   "outputs": [
    {
     "name": "stdout",
     "output_type": "stream",
     "text": [
      "<class 'pandas.core.frame.DataFrame'>\n",
      "RangeIndex: 65246 entries, 0 to 65245\n",
      "Data columns (total 5 columns):\n",
      "shop_id    65246 non-null int64\n",
      "item_id    65246 non-null int64\n",
      "Month      65246 non-null object\n",
      "Sales      65246 non-null float64\n",
      "Prices     65246 non-null float64\n",
      "dtypes: float64(2), int64(2), object(1)\n",
      "memory usage: 2.5+ MB\n"
     ]
    }
   ],
   "source": [
    "melt.info()"
   ]
  },
  {
   "cell_type": "code",
   "execution_count": 10,
   "metadata": {},
   "outputs": [
    {
     "name": "stdout",
     "output_type": "stream",
     "text": [
      "<class 'pandas.core.frame.DataFrame'>\n",
      "RangeIndex: 65246 entries, 0 to 65245\n",
      "Data columns (total 5 columns):\n",
      "shop_id    65246 non-null int64\n",
      "item_id    65246 non-null int64\n",
      "Month      65246 non-null int64\n",
      "Sales      65246 non-null float64\n",
      "Prices     65246 non-null float64\n",
      "dtypes: float64(2), int64(3)\n",
      "memory usage: 2.5 MB\n"
     ]
    }
   ],
   "source": [
    "# Convert Month feature from string to numerical\n",
    "melt['Month'] = melt['Month'].astype(int)\n",
    "melt.info()"
   ]
  },
  {
   "cell_type": "code",
   "execution_count": 11,
   "metadata": {},
   "outputs": [
    {
     "data": {
      "text/html": [
       "<div>\n",
       "<style scoped>\n",
       "    .dataframe tbody tr th:only-of-type {\n",
       "        vertical-align: middle;\n",
       "    }\n",
       "\n",
       "    .dataframe tbody tr th {\n",
       "        vertical-align: top;\n",
       "    }\n",
       "\n",
       "    .dataframe thead th {\n",
       "        text-align: right;\n",
       "    }\n",
       "</style>\n",
       "<table border=\"1\" class=\"dataframe\">\n",
       "  <thead>\n",
       "    <tr style=\"text-align: right;\">\n",
       "      <th></th>\n",
       "      <th>shop_id</th>\n",
       "      <th>item_id</th>\n",
       "      <th>Month</th>\n",
       "      <th>Sales</th>\n",
       "      <th>Prices</th>\n",
       "      <th>Last_Month_Sales</th>\n",
       "      <th>Last-1_Month_Sales</th>\n",
       "      <th>Last-2_Month_Sales</th>\n",
       "      <th>Last_Month_Diff</th>\n",
       "      <th>Last-1_Month_Diff</th>\n",
       "      <th>Price_Diff</th>\n",
       "      <th>Last_Month_Prices</th>\n",
       "      <th>Last-1_Month_Prices</th>\n",
       "      <th>Price_pct_change</th>\n",
       "    </tr>\n",
       "  </thead>\n",
       "  <tbody>\n",
       "    <tr>\n",
       "      <th>5757</th>\n",
       "      <td>2</td>\n",
       "      <td>1495</td>\n",
       "      <td>3</td>\n",
       "      <td>0.0</td>\n",
       "      <td>632.333333</td>\n",
       "      <td>0.0</td>\n",
       "      <td>0.0</td>\n",
       "      <td>0.0</td>\n",
       "      <td>0.0</td>\n",
       "      <td>0.0</td>\n",
       "      <td>0.00</td>\n",
       "      <td>632.333333</td>\n",
       "      <td>632.333333</td>\n",
       "      <td>0.0</td>\n",
       "    </tr>\n",
       "    <tr>\n",
       "      <th>5758</th>\n",
       "      <td>2</td>\n",
       "      <td>1830</td>\n",
       "      <td>3</td>\n",
       "      <td>2.0</td>\n",
       "      <td>599.000000</td>\n",
       "      <td>3.0</td>\n",
       "      <td>0.0</td>\n",
       "      <td>0.0</td>\n",
       "      <td>3.0</td>\n",
       "      <td>0.0</td>\n",
       "      <td>149.75</td>\n",
       "      <td>449.250000</td>\n",
       "      <td>449.250000</td>\n",
       "      <td>25.0</td>\n",
       "    </tr>\n",
       "    <tr>\n",
       "      <th>5759</th>\n",
       "      <td>2</td>\n",
       "      <td>1855</td>\n",
       "      <td>3</td>\n",
       "      <td>0.0</td>\n",
       "      <td>1199.000000</td>\n",
       "      <td>0.0</td>\n",
       "      <td>0.0</td>\n",
       "      <td>0.0</td>\n",
       "      <td>0.0</td>\n",
       "      <td>0.0</td>\n",
       "      <td>0.00</td>\n",
       "      <td>1199.000000</td>\n",
       "      <td>1199.000000</td>\n",
       "      <td>0.0</td>\n",
       "    </tr>\n",
       "    <tr>\n",
       "      <th>5760</th>\n",
       "      <td>2</td>\n",
       "      <td>1905</td>\n",
       "      <td>3</td>\n",
       "      <td>2.0</td>\n",
       "      <td>249.000000</td>\n",
       "      <td>0.0</td>\n",
       "      <td>0.0</td>\n",
       "      <td>3.0</td>\n",
       "      <td>0.0</td>\n",
       "      <td>-3.0</td>\n",
       "      <td>0.00</td>\n",
       "      <td>249.000000</td>\n",
       "      <td>249.000000</td>\n",
       "      <td>0.0</td>\n",
       "    </tr>\n",
       "    <tr>\n",
       "      <th>5761</th>\n",
       "      <td>2</td>\n",
       "      <td>1916</td>\n",
       "      <td>3</td>\n",
       "      <td>2.0</td>\n",
       "      <td>249.000000</td>\n",
       "      <td>2.0</td>\n",
       "      <td>2.0</td>\n",
       "      <td>3.0</td>\n",
       "      <td>0.0</td>\n",
       "      <td>-1.0</td>\n",
       "      <td>0.00</td>\n",
       "      <td>249.000000</td>\n",
       "      <td>249.000000</td>\n",
       "      <td>0.0</td>\n",
       "    </tr>\n",
       "  </tbody>\n",
       "</table>\n",
       "</div>"
      ],
      "text/plain": [
       "      shop_id  item_id  Month  Sales       Prices  Last_Month_Sales  \\\n",
       "5757        2     1495      3    0.0   632.333333               0.0   \n",
       "5758        2     1830      3    2.0   599.000000               3.0   \n",
       "5759        2     1855      3    0.0  1199.000000               0.0   \n",
       "5760        2     1905      3    2.0   249.000000               0.0   \n",
       "5761        2     1916      3    2.0   249.000000               2.0   \n",
       "\n",
       "      Last-1_Month_Sales  Last-2_Month_Sales  Last_Month_Diff  \\\n",
       "5757                 0.0                 0.0              0.0   \n",
       "5758                 0.0                 0.0              3.0   \n",
       "5759                 0.0                 0.0              0.0   \n",
       "5760                 0.0                 3.0              0.0   \n",
       "5761                 2.0                 3.0              0.0   \n",
       "\n",
       "      Last-1_Month_Diff  Price_Diff  Last_Month_Prices  Last-1_Month_Prices  \\\n",
       "5757                0.0        0.00         632.333333           632.333333   \n",
       "5758                0.0      149.75         449.250000           449.250000   \n",
       "5759                0.0        0.00        1199.000000          1199.000000   \n",
       "5760               -3.0        0.00         249.000000           249.000000   \n",
       "5761               -1.0        0.00         249.000000           249.000000   \n",
       "\n",
       "      Price_pct_change  \n",
       "5757               0.0  \n",
       "5758              25.0  \n",
       "5759               0.0  \n",
       "5760               0.0  \n",
       "5761               0.0  "
      ]
     },
     "execution_count": 11,
     "metadata": {},
     "output_type": "execute_result"
    }
   ],
   "source": [
    "# Create additional features: lagged sales and prices, sales and price differences, and percentage change on price.\n",
    "melt['Last_Month_Sales'] = melt.groupby(['shop_id','item_id',])['Sales'].shift()\n",
    "melt['Last-1_Month_Sales'] = melt.groupby(['shop_id','item_id',])['Sales'].shift(2)\n",
    "melt['Last-2_Month_Sales'] = melt.groupby(['shop_id','item_id',])['Sales'].shift(3)\n",
    "\n",
    "melt['Last_Month_Diff'] = melt.groupby(['shop_id','item_id',])['Last_Month_Sales'].diff()\n",
    "melt['Last-1_Month_Diff'] = melt.groupby(['shop_id','item_id',])['Last-1_Month_Sales'].diff()\n",
    "\n",
    "melt['Price_Diff'] = melt.groupby(['item_id','shop_id'])['Prices'].diff()\n",
    "melt['Last_Month_Prices'] = melt.groupby(['shop_id','item_id',])['Prices'].shift()\n",
    "melt['Last-1_Month_Prices'] = melt.groupby(['shop_id','item_id',])['Prices'].shift(2)\n",
    "\n",
    "melt['Price_pct_change'] = melt['Price_Diff']/melt['Prices']*100\n",
    "\n",
    "melt = melt.dropna()\n",
    "melt.head()"
   ]
  },
  {
   "cell_type": "code",
   "execution_count": 12,
   "metadata": {},
   "outputs": [],
   "source": [
    "# Create training and test data\n",
    "train = melt[melt['Month'] < 33]\n",
    "test = melt[melt['Month'] == 33]\n",
    "\n",
    "xtr, xts = train.drop(['Sales'], axis=1), test.drop(['Sales'], axis=1)\n",
    "ytr, yts = train['Sales'].values, test['Sales'].values"
   ]
  },
  {
   "cell_type": "markdown",
   "metadata": {},
   "source": [
    "### Prepare data for SARIMA model forecasting"
   ]
  },
  {
   "cell_type": "code",
   "execution_count": 13,
   "metadata": {},
   "outputs": [],
   "source": [
    "# Resamlpe data by monthly frequency\n",
    "total_annaul_data = {elem : pd.DataFrame for elem in df.item_id.unique()}\n",
    "total_annaul_train = {elem : pd.DataFrame for elem in df.item_id.unique()}\n",
    "total_annaul_test = {elem : pd.DataFrame for elem in df.item_id.unique()}\n",
    "\n",
    "for key in total_annaul_data.keys():\n",
    "    total_annaul_data[key] = DataFrameDict[key].resample('M').sum()\n",
    "    total_annaul_train[key] = total_annaul_data[key]['item_cnt_day'][:-1]\n",
    "    total_annaul_test[key] = total_annaul_data[key]['item_cnt_day'][-1:]"
   ]
  },
  {
   "cell_type": "markdown",
   "metadata": {},
   "source": [
    "### Prepare data for Facebook Prophet model forecasting"
   ]
  },
  {
   "cell_type": "code",
   "execution_count": 14,
   "metadata": {},
   "outputs": [],
   "source": [
    "# Rename dataframe with 'ds' and 'y'\n",
    "df_FP = {elem : pd.DataFrame for elem in df.item_id.unique()}\n",
    "\n",
    "for key in DataFrameDict.keys():\n",
    "    df_FP[key] = DataFrameDict[key].loc[DataFrameDict[key].index < '2015-10-01']\n",
    "    df_FP[key] = df_FP[key].reset_index().rename(index=str, columns={\"date\": \"ds\", \"index\": \"ds\", \"item_cnt_day\":'y'})"
   ]
  },
  {
   "cell_type": "markdown",
   "metadata": {},
   "source": [
    "### Load store-item weight data and hold out set for evaluation"
   ]
  },
  {
   "cell_type": "code",
   "execution_count": 15,
   "metadata": {},
   "outputs": [],
   "source": [
    "df_weight = pickle.load(open('weight.pkl','rb'))\n",
    "df_hold = pickle.load(open('df_hold.pkl','rb'))"
   ]
  },
  {
   "cell_type": "markdown",
   "metadata": {},
   "source": [
    "### Define validation fuctions"
   ]
  },
  {
   "cell_type": "code",
   "execution_count": 125,
   "metadata": {},
   "outputs": [],
   "source": [
    "from sklearn.metrics import mean_squared_error, r2_score\n",
    "\n",
    "def rms(y_test, y_pred):\n",
    "    return sqrt(mean_squared_error(y_test, y_pred))\n",
    "\n",
    "def r2(y_test, y_pred):\n",
    "    return r2_score(y_test, y_pred)\n",
    "\n",
    "def Model_evaluate(model):\n",
    "    r2_score = round(r2(model['item_cnt'], model['Prediction_shop']), 3)\n",
    "    rms_error = round(rms(model['item_cnt'], model['Prediction_shop']), 3)\n",
    "    print(\"R2 score: %.3f\" %r2_score)\n",
    "    print(\"Mean squared error: %.3f\" %rms_error)\n",
    "    \n",
    "    fs = 15\n",
    "    fig, (ax1,ax2,ax3) = plt.subplots(1,3,figsize=(17,5))\n",
    "    x = np.array(model['item_cnt'])\n",
    "    y = np.array(model['Prediction_shop'])\n",
    "\n",
    "    ax1 = plt.subplot(1, 3, 1)\n",
    "    ax1.scatter(x, y, s=5, alpha=0.3)\n",
    "    ax1.set_title('Prediction vs Sales, (%i data points)' % len(model), size=fs)\n",
    "    ax1.set_xlabel('Sales', size=fs)\n",
    "    ax1.set_ylabel('Prediction', size=fs)\n",
    "    ax1.set_xlim(-100,2300)\n",
    "    ax1.set_ylim(-100,2300)\n",
    "    ax1.plot(xlim(), ylim(), ls=\"-\", c='r', alpha=.3)\n",
    "\n",
    "    ax2 = plt.subplot(1, 3, 2)\n",
    "    ax2.scatter(x, y, s=5, alpha=0.3)\n",
    "    ax2.set_title('Prediction vs Sales (zoom in)', size=fs)\n",
    "    ax2.set_xlabel('Sales', size=fs)\n",
    "    ax2.set_xlim(-20,500)\n",
    "    ax2.set_ylim(-20,500)\n",
    "    ax2.plot(xlim(), ylim(), ls=\"-\", c='r', alpha=.3)\n",
    "\n",
    "    ax3 = plt.subplot(1, 3, 3)\n",
    "    ax3.scatter(x, y, s=5, alpha=0.3)\n",
    "    ax3.set_title('Prediction vs Sales (zoom in)', size=fs)\n",
    "    ax3.set_xlabel('Sales', size=fs)\n",
    "    ax3.set_xlim(-10,50)\n",
    "    ax3.set_ylim(-10,50)\n",
    "    ax3.plot(xlim(), ylim(), ls=\"-\", c='r', alpha=.3)\n",
    "\n",
    "    plt.show()"
   ]
  },
  {
   "cell_type": "markdown",
   "metadata": {},
   "source": [
    "## Baseline Model"
   ]
  },
  {
   "cell_type": "code",
   "execution_count": 47,
   "metadata": {},
   "outputs": [
    {
     "name": "stdout",
     "output_type": "stream",
     "text": [
      "Month 33 - RMS 47.518 \t Absolute Error 3.165 \t R2 0.29\n"
     ]
    }
   ],
   "source": [
    "val = test['Sales'].values\n",
    "p = test['Last_Month_Sales'].values\n",
    "\n",
    "error = rms(val, p)\n",
    "abs_error = mean(abs(val - p))\n",
    "error_r2 = r2(val, p)\n",
    "#percent_error = (abs_error / yts).mean()    \n",
    "\n",
    "print('Month %s - RMS %.3f \\t Absolute Error %.3f \\t R2 %.2f' % (33, error, abs_error, error_r2))"
   ]
  },
  {
   "cell_type": "code",
   "execution_count": 96,
   "metadata": {},
   "outputs": [
    {
     "data": {
      "text/html": [
       "<div>\n",
       "<style scoped>\n",
       "    .dataframe tbody tr th:only-of-type {\n",
       "        vertical-align: middle;\n",
       "    }\n",
       "\n",
       "    .dataframe tbody tr th {\n",
       "        vertical-align: top;\n",
       "    }\n",
       "\n",
       "    .dataframe thead th {\n",
       "        text-align: right;\n",
       "    }\n",
       "</style>\n",
       "<table border=\"1\" class=\"dataframe\">\n",
       "  <thead>\n",
       "    <tr style=\"text-align: right;\">\n",
       "      <th></th>\n",
       "      <th>shop_id</th>\n",
       "      <th>item_id</th>\n",
       "      <th>item_cnt</th>\n",
       "      <th>Prediction_shop</th>\n",
       "    </tr>\n",
       "  </thead>\n",
       "  <tbody>\n",
       "    <tr>\n",
       "      <th>0</th>\n",
       "      <td>2</td>\n",
       "      <td>2269</td>\n",
       "      <td>4.0</td>\n",
       "      <td>1.0</td>\n",
       "    </tr>\n",
       "    <tr>\n",
       "      <th>1</th>\n",
       "      <td>2</td>\n",
       "      <td>2445</td>\n",
       "      <td>1.0</td>\n",
       "      <td>0.0</td>\n",
       "    </tr>\n",
       "    <tr>\n",
       "      <th>2</th>\n",
       "      <td>2</td>\n",
       "      <td>2808</td>\n",
       "      <td>1.0</td>\n",
       "      <td>1.0</td>\n",
       "    </tr>\n",
       "    <tr>\n",
       "      <th>3</th>\n",
       "      <td>2</td>\n",
       "      <td>3341</td>\n",
       "      <td>4.0</td>\n",
       "      <td>7.0</td>\n",
       "    </tr>\n",
       "    <tr>\n",
       "      <th>4</th>\n",
       "      <td>2</td>\n",
       "      <td>3343</td>\n",
       "      <td>2.0</td>\n",
       "      <td>4.0</td>\n",
       "    </tr>\n",
       "  </tbody>\n",
       "</table>\n",
       "</div>"
      ],
      "text/plain": [
       "   shop_id  item_id  item_cnt  Prediction_shop\n",
       "0        2     2269       4.0              1.0\n",
       "1        2     2445       1.0              0.0\n",
       "2        2     2808       1.0              1.0\n",
       "3        2     3341       4.0              7.0\n",
       "4        2     3343       2.0              4.0"
      ]
     },
     "execution_count": 96,
     "metadata": {},
     "output_type": "execute_result"
    }
   ],
   "source": [
    "Baseline_evaluate = pd.merge(df_hold, test[['shop_id','item_id','Last_Month_Sales']],  how='left', left_on=['shop_id','item_id'], \n",
    "                       right_on = ['shop_id','item_id']).fillna(0)\n",
    "Baseline_evaluate = Baseline_evaluate.rename(index=str, columns={'Last_Month_Sales':'Prediction_shop'})\n",
    "\n",
    "Baseline_evaluate.head()"
   ]
  },
  {
   "cell_type": "code",
   "execution_count": 126,
   "metadata": {
    "scrolled": false
   },
   "outputs": [
    {
     "name": "stdout",
     "output_type": "stream",
     "text": [
      "R2 score: 0.289\n",
      "Mean squared error: 64.996\n"
     ]
    },
    {
     "data": {
      "image/png": "[encoded data removed]",
      "text/plain": [
       "<Figure size 1224x360 with 3 Axes>"
      ]
     },
     "metadata": {},
     "output_type": "display_data"
    }
   ],
   "source": [
    "Model_evaluate(Baseline_evaluate)"
   ]
  },
  {
   "cell_type": "markdown",
   "metadata": {},
   "source": [
    "Looks like there are two store-item pairs that have large spikes of sales in Oct 2015."
   ]
  },
  {
   "cell_type": "code",
   "execution_count": 98,
   "metadata": {
    "scrolled": true
   },
   "outputs": [
    {
     "data": {
      "text/html": [
       "<div>\n",
       "<style scoped>\n",
       "    .dataframe tbody tr th:only-of-type {\n",
       "        vertical-align: middle;\n",
       "    }\n",
       "\n",
       "    .dataframe tbody tr th {\n",
       "        vertical-align: top;\n",
       "    }\n",
       "\n",
       "    .dataframe thead th {\n",
       "        text-align: right;\n",
       "    }\n",
       "</style>\n",
       "<table border=\"1\" class=\"dataframe\">\n",
       "  <thead>\n",
       "    <tr style=\"text-align: right;\">\n",
       "      <th></th>\n",
       "      <th>shop_id</th>\n",
       "      <th>item_id</th>\n",
       "      <th>item_cnt</th>\n",
       "      <th>Prediction_shop</th>\n",
       "    </tr>\n",
       "  </thead>\n",
       "  <tbody>\n",
       "    <tr>\n",
       "      <th>182</th>\n",
       "      <td>12</td>\n",
       "      <td>11373</td>\n",
       "      <td>2253.0</td>\n",
       "      <td>246.0</td>\n",
       "    </tr>\n",
       "    <tr>\n",
       "      <th>184</th>\n",
       "      <td>12</td>\n",
       "      <td>20949</td>\n",
       "      <td>500.0</td>\n",
       "      <td>0.0</td>\n",
       "    </tr>\n",
       "  </tbody>\n",
       "</table>\n",
       "</div>"
      ],
      "text/plain": [
       "     shop_id  item_id  item_cnt  Prediction_shop\n",
       "182       12    11373    2253.0            246.0\n",
       "184       12    20949     500.0              0.0"
      ]
     },
     "execution_count": 98,
     "metadata": {},
     "output_type": "execute_result"
    }
   ],
   "source": [
    "Baseline_evaluate.loc[Baseline_evaluate['item_cnt'] >= 500]"
   ]
  },
  {
   "cell_type": "code",
   "execution_count": 99,
   "metadata": {},
   "outputs": [],
   "source": [
    "Baseline_evaluate_trimmed = Baseline_evaluate[Baseline_evaluate.item_cnt < 500]"
   ]
  },
  {
   "cell_type": "code",
   "execution_count": 127,
   "metadata": {
    "scrolled": false
   },
   "outputs": [
    {
     "name": "stdout",
     "output_type": "stream",
     "text": [
      "R2 score: 0.936\n",
      "Mean squared error: 7.129\n"
     ]
    },
    {
     "data": {
      "image/png": "[encoded data removed]",
      "text/plain": [
       "<Figure size 1224x360 with 3 Axes>"
      ]
     },
     "metadata": {},
     "output_type": "display_data"
    }
   ],
   "source": [
    "Model_evaluate(Baseline_evaluate_trimmed)"
   ]
  },
  {
   "cell_type": "markdown",
   "metadata": {},
   "source": [
    "By removing the two rows, we can see the high accuracy of baseline model meaning that the rest of sales data are fairly consistent from September to October."
   ]
  },
  {
   "cell_type": "markdown",
   "metadata": {},
   "source": [
    "## Random Forest"
   ]
  },
  {
   "cell_type": "code",
   "execution_count": 20,
   "metadata": {},
   "outputs": [],
   "source": [
    "from sklearn.ensemble import RandomForestRegressor\n",
    "RFR = pickle.load(open(\"RFR_final.pkl\", \"rb\"))"
   ]
  },
  {
   "cell_type": "code",
   "execution_count": 21,
   "metadata": {},
   "outputs": [
    {
     "name": "stdout",
     "output_type": "stream",
     "text": [
      "Month 33 - RMS 49.092 \t Absolute Error 3.179 \t R2 0.25\n",
      "CPU times: user 22.1 s, sys: 187 ms, total: 22.3 s\n",
      "Wall time: 6.08 s\n"
     ]
    }
   ],
   "source": [
    "%%time\n",
    "\n",
    "RFR.fit(xtr, ytr)\n",
    "p_RFR = RFR.predict(xts)\n",
    "\n",
    "abs_error = mean(abs(yts - p_RFR))\n",
    "error_r2 = r2(yts, p_RFR)\n",
    "   \n",
    "error = rms(yts, p_RFR)\n",
    "print('Month 33 - RMS %.3f \\t Absolute Error %.3f \\t R2 %.2f' % (error, abs_error, error_r2))"
   ]
  },
  {
   "cell_type": "code",
   "execution_count": 22,
   "metadata": {},
   "outputs": [
    {
     "data": {
      "text/html": [
       "<div>\n",
       "<style scoped>\n",
       "    .dataframe tbody tr th:only-of-type {\n",
       "        vertical-align: middle;\n",
       "    }\n",
       "\n",
       "    .dataframe tbody tr th {\n",
       "        vertical-align: top;\n",
       "    }\n",
       "\n",
       "    .dataframe thead th {\n",
       "        text-align: right;\n",
       "    }\n",
       "</style>\n",
       "<table border=\"1\" class=\"dataframe\">\n",
       "  <thead>\n",
       "    <tr style=\"text-align: right;\">\n",
       "      <th></th>\n",
       "      <th>shop_id</th>\n",
       "      <th>item_id</th>\n",
       "      <th>Month</th>\n",
       "      <th>Prices</th>\n",
       "      <th>Last_Month_Sales</th>\n",
       "      <th>Last-1_Month_Sales</th>\n",
       "      <th>Last-2_Month_Sales</th>\n",
       "      <th>Last_Month_Diff</th>\n",
       "      <th>Last-1_Month_Diff</th>\n",
       "      <th>Price_Diff</th>\n",
       "      <th>Last_Month_Prices</th>\n",
       "      <th>Last-1_Month_Prices</th>\n",
       "      <th>Price_pct_change</th>\n",
       "      <th>Prediction_shop</th>\n",
       "    </tr>\n",
       "  </thead>\n",
       "  <tbody>\n",
       "    <tr>\n",
       "      <th>63327</th>\n",
       "      <td>2</td>\n",
       "      <td>1495</td>\n",
       "      <td>33</td>\n",
       "      <td>499.0</td>\n",
       "      <td>0.0</td>\n",
       "      <td>2.0</td>\n",
       "      <td>0.0</td>\n",
       "      <td>-2.0</td>\n",
       "      <td>2.0</td>\n",
       "      <td>0.0</td>\n",
       "      <td>499.0</td>\n",
       "      <td>499.0</td>\n",
       "      <td>0.0</td>\n",
       "      <td>1.0</td>\n",
       "    </tr>\n",
       "    <tr>\n",
       "      <th>63328</th>\n",
       "      <td>2</td>\n",
       "      <td>1830</td>\n",
       "      <td>33</td>\n",
       "      <td>599.0</td>\n",
       "      <td>0.0</td>\n",
       "      <td>0.0</td>\n",
       "      <td>0.0</td>\n",
       "      <td>0.0</td>\n",
       "      <td>0.0</td>\n",
       "      <td>0.0</td>\n",
       "      <td>599.0</td>\n",
       "      <td>599.0</td>\n",
       "      <td>0.0</td>\n",
       "      <td>0.0</td>\n",
       "    </tr>\n",
       "    <tr>\n",
       "      <th>63329</th>\n",
       "      <td>2</td>\n",
       "      <td>1855</td>\n",
       "      <td>33</td>\n",
       "      <td>399.0</td>\n",
       "      <td>1.0</td>\n",
       "      <td>0.0</td>\n",
       "      <td>0.0</td>\n",
       "      <td>1.0</td>\n",
       "      <td>0.0</td>\n",
       "      <td>0.0</td>\n",
       "      <td>399.0</td>\n",
       "      <td>399.0</td>\n",
       "      <td>0.0</td>\n",
       "      <td>0.0</td>\n",
       "    </tr>\n",
       "    <tr>\n",
       "      <th>63330</th>\n",
       "      <td>2</td>\n",
       "      <td>1905</td>\n",
       "      <td>33</td>\n",
       "      <td>249.0</td>\n",
       "      <td>0.0</td>\n",
       "      <td>0.0</td>\n",
       "      <td>1.0</td>\n",
       "      <td>0.0</td>\n",
       "      <td>-1.0</td>\n",
       "      <td>0.0</td>\n",
       "      <td>249.0</td>\n",
       "      <td>249.0</td>\n",
       "      <td>0.0</td>\n",
       "      <td>1.0</td>\n",
       "    </tr>\n",
       "    <tr>\n",
       "      <th>63331</th>\n",
       "      <td>2</td>\n",
       "      <td>1916</td>\n",
       "      <td>33</td>\n",
       "      <td>249.0</td>\n",
       "      <td>0.0</td>\n",
       "      <td>0.0</td>\n",
       "      <td>0.0</td>\n",
       "      <td>0.0</td>\n",
       "      <td>0.0</td>\n",
       "      <td>0.0</td>\n",
       "      <td>249.0</td>\n",
       "      <td>249.0</td>\n",
       "      <td>0.0</td>\n",
       "      <td>0.0</td>\n",
       "    </tr>\n",
       "  </tbody>\n",
       "</table>\n",
       "</div>"
      ],
      "text/plain": [
       "       shop_id  item_id  Month  Prices  Last_Month_Sales  Last-1_Month_Sales  \\\n",
       "63327        2     1495     33   499.0               0.0                 2.0   \n",
       "63328        2     1830     33   599.0               0.0                 0.0   \n",
       "63329        2     1855     33   399.0               1.0                 0.0   \n",
       "63330        2     1905     33   249.0               0.0                 0.0   \n",
       "63331        2     1916     33   249.0               0.0                 0.0   \n",
       "\n",
       "       Last-2_Month_Sales  Last_Month_Diff  Last-1_Month_Diff  Price_Diff  \\\n",
       "63327                 0.0             -2.0                2.0         0.0   \n",
       "63328                 0.0              0.0                0.0         0.0   \n",
       "63329                 0.0              1.0                0.0         0.0   \n",
       "63330                 1.0              0.0               -1.0         0.0   \n",
       "63331                 0.0              0.0                0.0         0.0   \n",
       "\n",
       "       Last_Month_Prices  Last-1_Month_Prices  Price_pct_change  \\\n",
       "63327              499.0                499.0               0.0   \n",
       "63328              599.0                599.0               0.0   \n",
       "63329              399.0                399.0               0.0   \n",
       "63330              249.0                249.0               0.0   \n",
       "63331              249.0                249.0               0.0   \n",
       "\n",
       "       Prediction_shop  \n",
       "63327              1.0  \n",
       "63328              0.0  \n",
       "63329              0.0  \n",
       "63330              1.0  \n",
       "63331              0.0  "
      ]
     },
     "execution_count": 22,
     "metadata": {},
     "output_type": "execute_result"
    }
   ],
   "source": [
    "# Merge predicted data back to the test set\n",
    "df_RFR = xts\n",
    "df_RFR['Prediction_shop'] = np.round(p_RFR)\n",
    "df_RFR.head()"
   ]
  },
  {
   "cell_type": "code",
   "execution_count": 23,
   "metadata": {},
   "outputs": [
    {
     "data": {
      "text/html": [
       "<div>\n",
       "<style scoped>\n",
       "    .dataframe tbody tr th:only-of-type {\n",
       "        vertical-align: middle;\n",
       "    }\n",
       "\n",
       "    .dataframe tbody tr th {\n",
       "        vertical-align: top;\n",
       "    }\n",
       "\n",
       "    .dataframe thead th {\n",
       "        text-align: right;\n",
       "    }\n",
       "</style>\n",
       "<table border=\"1\" class=\"dataframe\">\n",
       "  <thead>\n",
       "    <tr style=\"text-align: right;\">\n",
       "      <th></th>\n",
       "      <th>shop_id</th>\n",
       "      <th>item_id</th>\n",
       "      <th>item_cnt</th>\n",
       "      <th>Prediction_shop</th>\n",
       "    </tr>\n",
       "  </thead>\n",
       "  <tbody>\n",
       "    <tr>\n",
       "      <th>0</th>\n",
       "      <td>2</td>\n",
       "      <td>2269</td>\n",
       "      <td>4.0</td>\n",
       "      <td>1.0</td>\n",
       "    </tr>\n",
       "    <tr>\n",
       "      <th>1</th>\n",
       "      <td>2</td>\n",
       "      <td>2445</td>\n",
       "      <td>1.0</td>\n",
       "      <td>1.0</td>\n",
       "    </tr>\n",
       "    <tr>\n",
       "      <th>2</th>\n",
       "      <td>2</td>\n",
       "      <td>2808</td>\n",
       "      <td>1.0</td>\n",
       "      <td>1.0</td>\n",
       "    </tr>\n",
       "    <tr>\n",
       "      <th>3</th>\n",
       "      <td>2</td>\n",
       "      <td>3341</td>\n",
       "      <td>4.0</td>\n",
       "      <td>6.0</td>\n",
       "    </tr>\n",
       "    <tr>\n",
       "      <th>4</th>\n",
       "      <td>2</td>\n",
       "      <td>3343</td>\n",
       "      <td>2.0</td>\n",
       "      <td>6.0</td>\n",
       "    </tr>\n",
       "  </tbody>\n",
       "</table>\n",
       "</div>"
      ],
      "text/plain": [
       "   shop_id  item_id  item_cnt  Prediction_shop\n",
       "0        2     2269       4.0              1.0\n",
       "1        2     2445       1.0              1.0\n",
       "2        2     2808       1.0              1.0\n",
       "3        2     3341       4.0              6.0\n",
       "4        2     3343       2.0              6.0"
      ]
     },
     "execution_count": 23,
     "metadata": {},
     "output_type": "execute_result"
    }
   ],
   "source": [
    "# Merge random forest prediction to hold out set\n",
    "RF_evaluate = pd.merge(df_hold, df_RFR[['shop_id','item_id','Prediction_shop']],  how='left', left_on=['shop_id','item_id'], \n",
    "                       right_on = ['shop_id','item_id']).fillna(0)\n",
    "RF_evaluate.head()"
   ]
  },
  {
   "cell_type": "code",
   "execution_count": 128,
   "metadata": {
    "scrolled": false
   },
   "outputs": [
    {
     "name": "stdout",
     "output_type": "stream",
     "text": [
      "R2 score: 0.241\n",
      "Mean squared error: 67.144\n"
     ]
    },
    {
     "data": {
      "image/png": "[encoded data removed]",
      "text/plain": [
       "<Figure size 1224x360 with 3 Axes>"
      ]
     },
     "metadata": {},
     "output_type": "display_data"
    }
   ],
   "source": [
    "Model_evaluate(RF_evaluate)"
   ]
  },
  {
   "cell_type": "markdown",
   "metadata": {},
   "source": [
    "## Gradient Boosting"
   ]
  },
  {
   "cell_type": "code",
   "execution_count": 25,
   "metadata": {},
   "outputs": [],
   "source": [
    "GBR = pickle.load(open(\"GBR_final.pkl\", \"rb\"))"
   ]
  },
  {
   "cell_type": "code",
   "execution_count": 26,
   "metadata": {},
   "outputs": [
    {
     "name": "stdout",
     "output_type": "stream",
     "text": [
      "Month 33 - RMS 48.220 \t Absolute Error 3.602 \t R2 0.27\n",
      "CPU times: user 2.46 s, sys: 27.1 ms, total: 2.49 s\n",
      "Wall time: 2.49 s\n"
     ]
    }
   ],
   "source": [
    "%%time\n",
    "from sklearn.ensemble import GradientBoostingRegressor\n",
    "\n",
    "xtr, xts = train.drop(['Sales'], axis=1), test.drop(['Sales'], axis=1)\n",
    "ytr, yts = train['Sales'].values, test['Sales'].values\n",
    "\n",
    "GBR.fit(xtr, ytr)\n",
    "p_GBR = GBR.predict(xts)\n",
    "\n",
    "abs_error = mean(abs(yts - p_GBR))\n",
    "error_r2 = r2(yts, p_GBR)\n",
    " \n",
    "error = rms(yts, p_GBR)\n",
    "print('Month 33 - RMS %.3f \\t Absolute Error %.3f \\t R2 %.2f' % (error, abs_error, error_r2))"
   ]
  },
  {
   "cell_type": "code",
   "execution_count": 27,
   "metadata": {},
   "outputs": [
    {
     "data": {
      "text/html": [
       "<div>\n",
       "<style scoped>\n",
       "    .dataframe tbody tr th:only-of-type {\n",
       "        vertical-align: middle;\n",
       "    }\n",
       "\n",
       "    .dataframe tbody tr th {\n",
       "        vertical-align: top;\n",
       "    }\n",
       "\n",
       "    .dataframe thead th {\n",
       "        text-align: right;\n",
       "    }\n",
       "</style>\n",
       "<table border=\"1\" class=\"dataframe\">\n",
       "  <thead>\n",
       "    <tr style=\"text-align: right;\">\n",
       "      <th></th>\n",
       "      <th>shop_id</th>\n",
       "      <th>item_id</th>\n",
       "      <th>Month</th>\n",
       "      <th>Prices</th>\n",
       "      <th>Last_Month_Sales</th>\n",
       "      <th>Last-1_Month_Sales</th>\n",
       "      <th>Last-2_Month_Sales</th>\n",
       "      <th>Last_Month_Diff</th>\n",
       "      <th>Last-1_Month_Diff</th>\n",
       "      <th>Price_Diff</th>\n",
       "      <th>Last_Month_Prices</th>\n",
       "      <th>Last-1_Month_Prices</th>\n",
       "      <th>Price_pct_change</th>\n",
       "      <th>Prediction_shop</th>\n",
       "    </tr>\n",
       "  </thead>\n",
       "  <tbody>\n",
       "    <tr>\n",
       "      <th>63327</th>\n",
       "      <td>2</td>\n",
       "      <td>1495</td>\n",
       "      <td>33</td>\n",
       "      <td>499.0</td>\n",
       "      <td>0.0</td>\n",
       "      <td>2.0</td>\n",
       "      <td>0.0</td>\n",
       "      <td>-2.0</td>\n",
       "      <td>2.0</td>\n",
       "      <td>0.0</td>\n",
       "      <td>499.0</td>\n",
       "      <td>499.0</td>\n",
       "      <td>0.0</td>\n",
       "      <td>1.0</td>\n",
       "    </tr>\n",
       "    <tr>\n",
       "      <th>63328</th>\n",
       "      <td>2</td>\n",
       "      <td>1830</td>\n",
       "      <td>33</td>\n",
       "      <td>599.0</td>\n",
       "      <td>0.0</td>\n",
       "      <td>0.0</td>\n",
       "      <td>0.0</td>\n",
       "      <td>0.0</td>\n",
       "      <td>0.0</td>\n",
       "      <td>0.0</td>\n",
       "      <td>599.0</td>\n",
       "      <td>599.0</td>\n",
       "      <td>0.0</td>\n",
       "      <td>1.0</td>\n",
       "    </tr>\n",
       "    <tr>\n",
       "      <th>63329</th>\n",
       "      <td>2</td>\n",
       "      <td>1855</td>\n",
       "      <td>33</td>\n",
       "      <td>399.0</td>\n",
       "      <td>1.0</td>\n",
       "      <td>0.0</td>\n",
       "      <td>0.0</td>\n",
       "      <td>1.0</td>\n",
       "      <td>0.0</td>\n",
       "      <td>0.0</td>\n",
       "      <td>399.0</td>\n",
       "      <td>399.0</td>\n",
       "      <td>0.0</td>\n",
       "      <td>1.0</td>\n",
       "    </tr>\n",
       "    <tr>\n",
       "      <th>63330</th>\n",
       "      <td>2</td>\n",
       "      <td>1905</td>\n",
       "      <td>33</td>\n",
       "      <td>249.0</td>\n",
       "      <td>0.0</td>\n",
       "      <td>0.0</td>\n",
       "      <td>1.0</td>\n",
       "      <td>0.0</td>\n",
       "      <td>-1.0</td>\n",
       "      <td>0.0</td>\n",
       "      <td>249.0</td>\n",
       "      <td>249.0</td>\n",
       "      <td>0.0</td>\n",
       "      <td>1.0</td>\n",
       "    </tr>\n",
       "    <tr>\n",
       "      <th>63331</th>\n",
       "      <td>2</td>\n",
       "      <td>1916</td>\n",
       "      <td>33</td>\n",
       "      <td>249.0</td>\n",
       "      <td>0.0</td>\n",
       "      <td>0.0</td>\n",
       "      <td>0.0</td>\n",
       "      <td>0.0</td>\n",
       "      <td>0.0</td>\n",
       "      <td>0.0</td>\n",
       "      <td>249.0</td>\n",
       "      <td>249.0</td>\n",
       "      <td>0.0</td>\n",
       "      <td>1.0</td>\n",
       "    </tr>\n",
       "  </tbody>\n",
       "</table>\n",
       "</div>"
      ],
      "text/plain": [
       "       shop_id  item_id  Month  Prices  Last_Month_Sales  Last-1_Month_Sales  \\\n",
       "63327        2     1495     33   499.0               0.0                 2.0   \n",
       "63328        2     1830     33   599.0               0.0                 0.0   \n",
       "63329        2     1855     33   399.0               1.0                 0.0   \n",
       "63330        2     1905     33   249.0               0.0                 0.0   \n",
       "63331        2     1916     33   249.0               0.0                 0.0   \n",
       "\n",
       "       Last-2_Month_Sales  Last_Month_Diff  Last-1_Month_Diff  Price_Diff  \\\n",
       "63327                 0.0             -2.0                2.0         0.0   \n",
       "63328                 0.0              0.0                0.0         0.0   \n",
       "63329                 0.0              1.0                0.0         0.0   \n",
       "63330                 1.0              0.0               -1.0         0.0   \n",
       "63331                 0.0              0.0                0.0         0.0   \n",
       "\n",
       "       Last_Month_Prices  Last-1_Month_Prices  Price_pct_change  \\\n",
       "63327              499.0                499.0               0.0   \n",
       "63328              599.0                599.0               0.0   \n",
       "63329              399.0                399.0               0.0   \n",
       "63330              249.0                249.0               0.0   \n",
       "63331              249.0                249.0               0.0   \n",
       "\n",
       "       Prediction_shop  \n",
       "63327              1.0  \n",
       "63328              1.0  \n",
       "63329              1.0  \n",
       "63330              1.0  \n",
       "63331              1.0  "
      ]
     },
     "execution_count": 27,
     "metadata": {},
     "output_type": "execute_result"
    }
   ],
   "source": [
    "# Merge predicted data back to the test set\n",
    "df_GBR = xts\n",
    "df_GBR['Prediction_shop'] = np.round(p_GBR)\n",
    "df_GBR.head()"
   ]
  },
  {
   "cell_type": "code",
   "execution_count": 28,
   "metadata": {},
   "outputs": [
    {
     "data": {
      "text/html": [
       "<div>\n",
       "<style scoped>\n",
       "    .dataframe tbody tr th:only-of-type {\n",
       "        vertical-align: middle;\n",
       "    }\n",
       "\n",
       "    .dataframe tbody tr th {\n",
       "        vertical-align: top;\n",
       "    }\n",
       "\n",
       "    .dataframe thead th {\n",
       "        text-align: right;\n",
       "    }\n",
       "</style>\n",
       "<table border=\"1\" class=\"dataframe\">\n",
       "  <thead>\n",
       "    <tr style=\"text-align: right;\">\n",
       "      <th></th>\n",
       "      <th>shop_id</th>\n",
       "      <th>item_id</th>\n",
       "      <th>item_cnt</th>\n",
       "      <th>Prediction_shop</th>\n",
       "    </tr>\n",
       "  </thead>\n",
       "  <tbody>\n",
       "    <tr>\n",
       "      <th>0</th>\n",
       "      <td>2</td>\n",
       "      <td>2269</td>\n",
       "      <td>4.0</td>\n",
       "      <td>1.0</td>\n",
       "    </tr>\n",
       "    <tr>\n",
       "      <th>1</th>\n",
       "      <td>2</td>\n",
       "      <td>2445</td>\n",
       "      <td>1.0</td>\n",
       "      <td>1.0</td>\n",
       "    </tr>\n",
       "    <tr>\n",
       "      <th>2</th>\n",
       "      <td>2</td>\n",
       "      <td>2808</td>\n",
       "      <td>1.0</td>\n",
       "      <td>2.0</td>\n",
       "    </tr>\n",
       "    <tr>\n",
       "      <th>3</th>\n",
       "      <td>2</td>\n",
       "      <td>3341</td>\n",
       "      <td>4.0</td>\n",
       "      <td>6.0</td>\n",
       "    </tr>\n",
       "    <tr>\n",
       "      <th>4</th>\n",
       "      <td>2</td>\n",
       "      <td>3343</td>\n",
       "      <td>2.0</td>\n",
       "      <td>3.0</td>\n",
       "    </tr>\n",
       "  </tbody>\n",
       "</table>\n",
       "</div>"
      ],
      "text/plain": [
       "   shop_id  item_id  item_cnt  Prediction_shop\n",
       "0        2     2269       4.0              1.0\n",
       "1        2     2445       1.0              1.0\n",
       "2        2     2808       1.0              2.0\n",
       "3        2     3341       4.0              6.0\n",
       "4        2     3343       2.0              3.0"
      ]
     },
     "execution_count": 28,
     "metadata": {},
     "output_type": "execute_result"
    }
   ],
   "source": [
    "# Merge random forest prediction to hold out set\n",
    "GBR_evaluate = pd.merge(df_hold, df_GBR[['shop_id','item_id','Prediction_shop']],  how='left', left_on=['shop_id','item_id'], \n",
    "                       right_on = ['shop_id','item_id']).fillna(0)\n",
    "GBR_evaluate.head()"
   ]
  },
  {
   "cell_type": "code",
   "execution_count": 129,
   "metadata": {
    "scrolled": false
   },
   "outputs": [
    {
     "name": "stdout",
     "output_type": "stream",
     "text": [
      "R2 score: 0.268\n",
      "Mean squared error: 65.927\n"
     ]
    },
    {
     "data": {
      "image/png": "[encoded data removed]",
      "text/plain": [
       "<Figure size 1224x360 with 3 Axes>"
      ]
     },
     "metadata": {},
     "output_type": "display_data"
    }
   ],
   "source": [
    "Model_evaluate(GBR_evaluate)"
   ]
  },
  {
   "cell_type": "markdown",
   "metadata": {},
   "source": [
    "## SARIMA (Seasonal AutoRegressive Integrated Moving Average)"
   ]
  },
  {
   "cell_type": "code",
   "execution_count": 30,
   "metadata": {},
   "outputs": [],
   "source": [
    "# Load SARIMA's parameteres for each unique item\n",
    "top_model = pickle.load(open('top_model_SARIMAX.pkl','rb'))"
   ]
  },
  {
   "cell_type": "code",
   "execution_count": 31,
   "metadata": {},
   "outputs": [],
   "source": [
    "#Store model information into dictionaries for model prediction\n",
    "import re\n",
    "from statsmodels.tsa.statespace.sarimax import SARIMAX\n",
    "\n",
    "#(p,d,q), (P,D,Q,m)\n",
    "order_term = {elem : pd.DataFrame for elem in top_model.keys()}\n",
    "sorder_term = {elem : pd.DataFrame for elem in top_model.keys()}\n",
    "t_term = {elem : pd.DataFrame for elem in top_model.keys()}\n",
    "trend_seek = re.compile('[a-z]{1,2}')\n",
    "\n",
    "for key in top_model.keys():\n",
    "    order_term[key] = (int(top_model[key][2]),int(top_model[key][5]),int(top_model[key][8]))\n",
    "    sorder_term[key] = (int(top_model[key][13]),int(top_model[key][16]),int(top_model[key][19]),int(top_model[key][22]))\n",
    "    t_term[key] = (trend_seek.findall(top_model[key]))[0]"
   ]
  },
  {
   "cell_type": "code",
   "execution_count": 32,
   "metadata": {
    "scrolled": false
   },
   "outputs": [
    {
     "name": "stdout",
     "output_type": "stream",
     "text": [
      "CPU times: user 8.64 s, sys: 418 ms, total: 9.06 s\n",
      "Wall time: 7 s\n"
     ]
    }
   ],
   "source": [
    "%%time\n",
    "# Forecast Oct sales with SARIMAX\n",
    "SA_pred = pd.DataFrame(index=['Prediction'], columns=None)\n",
    "for key in total_annaul_train.keys():\n",
    "    # define model\n",
    "    model = SARIMAX(total_annaul_train[key], order=order_term[key], seasonal_order=sorder_term[key], trend=t_term[key], enforce_stationarity=False, enforce_invertibility=False)\n",
    "    # fit model\n",
    "    model_fit = model.fit(disp=False)\n",
    "    # make one step forecast\n",
    "    yhat = model_fit.predict('2015-10-31')\n",
    "    #df['item_id'].append(key)\n",
    "    SA_pred[key] = yhat[0]\n",
    "SA_pred"
   ]
  },
  {
   "cell_type": "code",
   "execution_count": 33,
   "metadata": {},
   "outputs": [
    {
     "data": {
      "text/html": [
       "<div>\n",
       "<style scoped>\n",
       "    .dataframe tbody tr th:only-of-type {\n",
       "        vertical-align: middle;\n",
       "    }\n",
       "\n",
       "    .dataframe tbody tr th {\n",
       "        vertical-align: top;\n",
       "    }\n",
       "\n",
       "    .dataframe thead th {\n",
       "        text-align: right;\n",
       "    }\n",
       "</style>\n",
       "<table border=\"1\" class=\"dataframe\">\n",
       "  <thead>\n",
       "    <tr style=\"text-align: right;\">\n",
       "      <th></th>\n",
       "      <th>item_id</th>\n",
       "      <th>Prediction</th>\n",
       "    </tr>\n",
       "  </thead>\n",
       "  <tbody>\n",
       "    <tr>\n",
       "      <th>0</th>\n",
       "      <td>5823</td>\n",
       "      <td>155.618696</td>\n",
       "    </tr>\n",
       "    <tr>\n",
       "      <th>1</th>\n",
       "      <td>1830</td>\n",
       "      <td>1.391329</td>\n",
       "    </tr>\n",
       "    <tr>\n",
       "      <th>2</th>\n",
       "      <td>1905</td>\n",
       "      <td>18.793294</td>\n",
       "    </tr>\n",
       "    <tr>\n",
       "      <th>3</th>\n",
       "      <td>2808</td>\n",
       "      <td>-36.770642</td>\n",
       "    </tr>\n",
       "    <tr>\n",
       "      <th>4</th>\n",
       "      <td>22088</td>\n",
       "      <td>124.805050</td>\n",
       "    </tr>\n",
       "  </tbody>\n",
       "</table>\n",
       "</div>"
      ],
      "text/plain": [
       "   item_id  Prediction\n",
       "0     5823  155.618696\n",
       "1     1830    1.391329\n",
       "2     1905   18.793294\n",
       "3     2808  -36.770642\n",
       "4    22088  124.805050"
      ]
     },
     "execution_count": 33,
     "metadata": {},
     "output_type": "execute_result"
    }
   ],
   "source": [
    "# Transpose data to merge with store-item weights\n",
    "df_t = SA_pred.T\n",
    "df_t = df_t.reset_index().rename(index=str, columns={\"index\": \"item_id\"})\n",
    "df_t.head()"
   ]
  },
  {
   "cell_type": "code",
   "execution_count": 34,
   "metadata": {},
   "outputs": [
    {
     "name": "stdout",
     "output_type": "stream",
     "text": [
      "   shop_id  item_id    weight  Prediction  Prediction_shop\n",
      "0        2     2269  0.019608   52.196181              1.0\n",
      "1        3     2269  0.019608   52.196181              1.0\n",
      "2        5     2269  0.019608   52.196181              1.0\n",
      "3        6     2269  0.019608   52.196181              1.0\n",
      "4        7     2269  0.039216   52.196181              2.0\n",
      "1163\n"
     ]
    }
   ],
   "source": [
    "# Merge SARIMA forecast with store-item weights\n",
    "df_SA = pd.merge(df_weight, df_t, on='item_id')\n",
    "df_SA['Prediction_shop'] = round(df_SA['weight'] * df_SA['Prediction'])\n",
    "df_SA = df_SA.drop('item_cnt',axis=1)\n",
    "print(df_SA.head())\n",
    "print(len(df_SA))"
   ]
  },
  {
   "cell_type": "code",
   "execution_count": 35,
   "metadata": {},
   "outputs": [
    {
     "data": {
      "text/html": [
       "<div>\n",
       "<style scoped>\n",
       "    .dataframe tbody tr th:only-of-type {\n",
       "        vertical-align: middle;\n",
       "    }\n",
       "\n",
       "    .dataframe tbody tr th {\n",
       "        vertical-align: top;\n",
       "    }\n",
       "\n",
       "    .dataframe thead th {\n",
       "        text-align: right;\n",
       "    }\n",
       "</style>\n",
       "<table border=\"1\" class=\"dataframe\">\n",
       "  <thead>\n",
       "    <tr style=\"text-align: right;\">\n",
       "      <th></th>\n",
       "      <th>shop_id</th>\n",
       "      <th>item_id</th>\n",
       "      <th>item_cnt</th>\n",
       "      <th>weight</th>\n",
       "      <th>Prediction</th>\n",
       "      <th>Prediction_shop</th>\n",
       "    </tr>\n",
       "  </thead>\n",
       "  <tbody>\n",
       "    <tr>\n",
       "      <th>0</th>\n",
       "      <td>2</td>\n",
       "      <td>2269</td>\n",
       "      <td>4.0</td>\n",
       "      <td>0.019608</td>\n",
       "      <td>52.196181</td>\n",
       "      <td>1.0</td>\n",
       "    </tr>\n",
       "    <tr>\n",
       "      <th>1</th>\n",
       "      <td>2</td>\n",
       "      <td>2445</td>\n",
       "      <td>1.0</td>\n",
       "      <td>0.000000</td>\n",
       "      <td>0.000000</td>\n",
       "      <td>0.0</td>\n",
       "    </tr>\n",
       "    <tr>\n",
       "      <th>2</th>\n",
       "      <td>2</td>\n",
       "      <td>2808</td>\n",
       "      <td>1.0</td>\n",
       "      <td>0.031250</td>\n",
       "      <td>-36.770642</td>\n",
       "      <td>-1.0</td>\n",
       "    </tr>\n",
       "    <tr>\n",
       "      <th>3</th>\n",
       "      <td>2</td>\n",
       "      <td>3341</td>\n",
       "      <td>4.0</td>\n",
       "      <td>0.031250</td>\n",
       "      <td>256.780280</td>\n",
       "      <td>8.0</td>\n",
       "    </tr>\n",
       "    <tr>\n",
       "      <th>4</th>\n",
       "      <td>2</td>\n",
       "      <td>3343</td>\n",
       "      <td>2.0</td>\n",
       "      <td>0.018868</td>\n",
       "      <td>306.975805</td>\n",
       "      <td>6.0</td>\n",
       "    </tr>\n",
       "  </tbody>\n",
       "</table>\n",
       "</div>"
      ],
      "text/plain": [
       "   shop_id  item_id  item_cnt    weight  Prediction  Prediction_shop\n",
       "0        2     2269       4.0  0.019608   52.196181              1.0\n",
       "1        2     2445       1.0  0.000000    0.000000              0.0\n",
       "2        2     2808       1.0  0.031250  -36.770642             -1.0\n",
       "3        2     3341       4.0  0.031250  256.780280              8.0\n",
       "4        2     3343       2.0  0.018868  306.975805              6.0"
      ]
     },
     "execution_count": 35,
     "metadata": {},
     "output_type": "execute_result"
    }
   ],
   "source": [
    "# Merge forecast with hold out set\n",
    "SA_evaluate = pd.merge(df_hold, df_SA,  how='left', left_on=['shop_id','item_id'], \n",
    "                           right_on = ['shop_id','item_id']).fillna(0)\n",
    "SA_evaluate.head()"
   ]
  },
  {
   "cell_type": "code",
   "execution_count": 130,
   "metadata": {
    "scrolled": false
   },
   "outputs": [
    {
     "name": "stdout",
     "output_type": "stream",
     "text": [
      "R2 score: 0.380\n",
      "Mean squared error: 60.707\n"
     ]
    },
    {
     "data": {
      "image/png": "[encoded data removed]",
      "text/plain": [
       "<Figure size 1224x360 with 3 Axes>"
      ]
     },
     "metadata": {},
     "output_type": "display_data"
    }
   ],
   "source": [
    "Model_evaluate(SA_evaluate)"
   ]
  },
  {
   "cell_type": "markdown",
   "metadata": {},
   "source": [
    "## Facebook Prophet"
   ]
  },
  {
   "cell_type": "code",
   "execution_count": 37,
   "metadata": {},
   "outputs": [],
   "source": [
    "# Load Prophet's parameteres for each unique item. \n",
    "FP_model = pickle.load(open('FP_model.pkl','rb'))"
   ]
  },
  {
   "cell_type": "code",
   "execution_count": 38,
   "metadata": {
    "scrolled": true
   },
   "outputs": [
    {
     "data": {
      "text/plain": [
       "{1495: [False, False, 'logistic'],\n",
       " 1830: [False, False, 'logistic'],\n",
       " 1855: [False, False, 'logistic'],\n",
       " 1905: [False, False, 'linear'],\n",
       " 1916: [False, False, 'linear'],\n",
       " 2269: [False, False, 'linear'],\n",
       " 2308: [False, True, 'logistic'],\n",
       " 2416: [False, False, 'linear'],\n",
       " 2445: [False, False, 'linear'],\n",
       " 2753: [True, True, 'linear'],\n",
       " 2808: [False, False, 'logistic'],\n",
       " 3329: [False, False, 'linear'],\n",
       " 3331: [False, False, 'linear'],\n",
       " 3340: [False, False, 'logistic'],\n",
       " 3341: [False, False, 'linear'],\n",
       " 3343: [False, False, 'linear'],\n",
       " 3731: [False, False, 'logistic'],\n",
       " 3732: [False, False, 'logistic'],\n",
       " 3733: [False, False, 'linear'],\n",
       " 3734: [False, False, 'linear'],\n",
       " 3928: [False, False, 'logistic'],\n",
       " 4178: [False, True, 'linear'],\n",
       " 4181: [False, False, 'linear'],\n",
       " 4870: [False, True, 'logistic'],\n",
       " 5272: [False, False, 'linear'],\n",
       " 5672: [False, False, 'linear'],\n",
       " 5821: [False, True, 'linear'],\n",
       " 5822: [False, True, 'linear'],\n",
       " 5823: [True, True, 'linear'],\n",
       " 6457: [False, True, 'linear'],\n",
       " 6497: [False, False, 'linear'],\n",
       " 6503: [False, False, 'linear'],\n",
       " 6675: [False, False, 'linear'],\n",
       " 6738: [False, False, 'linear'],\n",
       " 6740: [False, False, 'linear'],\n",
       " 7018: [False, False, 'linear'],\n",
       " 7096: [False, False, 'linear'],\n",
       " 7856: [False, False, 'linear'],\n",
       " 7893: [False, True, 'linear'],\n",
       " 7894: [False, True, 'linear'],\n",
       " 10209: [False, False, 'logistic'],\n",
       " 10210: [False, False, 'logistic'],\n",
       " 11370: [True, False, 'logistic'],\n",
       " 11373: [False, False, 'linear'],\n",
       " 15044: [False, False, 'logistic'],\n",
       " 16787: [False, False, 'logistic'],\n",
       " 16790: [False, False, 'linear'],\n",
       " 17717: [False, True, 'linear'],\n",
       " 20949: [False, True, 'linear'],\n",
       " 22088: [False, True, 'linear']}"
      ]
     },
     "execution_count": 38,
     "metadata": {},
     "output_type": "execute_result"
    }
   ],
   "source": [
    "# First term is weekly seasonaliy, second term is yearly seasonality, and third term is growth\n",
    "FP_model"
   ]
  },
  {
   "cell_type": "code",
   "execution_count": 39,
   "metadata": {},
   "outputs": [
    {
     "name": "stdout",
     "output_type": "stream",
     "text": [
      "CPU times: user 2min 21s, sys: 4.57 s, total: 2min 26s\n",
      "Wall time: 2min 5s\n"
     ]
    }
   ],
   "source": [
    "%%time\n",
    "# Fit parameters into model and make predictions\n",
    "from fbprophet import Prophet\n",
    "\n",
    "FP_pred = {elem : pd.DataFrame for elem in df_FP.keys()}\n",
    "\n",
    "for key in df_FP.keys():\n",
    "    if df_FP[key]['y'][-120:-30].max() == 0:\n",
    "        df_FP[key]['cap'] = 1\n",
    "    else:\n",
    "            df_FP[key]['cap'] = df_FP[key]['y'][-120:-30].max()\n",
    "    m_pro = Prophet(daily_seasonality=False, weekly_seasonality=FP_model[key][0], \n",
    "                    yearly_seasonality=FP_model[key][1], growth=FP_model[key][2])\n",
    "    m_pro.fit(df_FP[key])\n",
    "    m_future = m_pro.make_future_dataframe(periods=31)\n",
    "    m_future['cap'] = df_FP[key]['y'][-120:-30].max()\n",
    "    m_future['floor'] = 0\n",
    "    forecast = m_pro.predict(m_future)\n",
    "    FP_pred[key] = forecast[['ds','yhat']].tail(31)"
   ]
  },
  {
   "cell_type": "code",
   "execution_count": 40,
   "metadata": {},
   "outputs": [
    {
     "name": "stdout",
     "output_type": "stream",
     "text": [
      "              yhat\n",
      "item_id           \n",
      "1495      1.884186\n",
      "1830      4.205387\n",
      "1855      0.000000\n",
      "1905     47.898988\n",
      "1916     13.685403\n"
     ]
    }
   ],
   "source": [
    "# Convert the dictionary of predictions into one dataframe\n",
    "for key in FP_pred.keys():\n",
    "    FP_pred[key]['item_id'] = key\n",
    "    \n",
    "FP_pred = pd.concat([df for df in FP_pred.values()], ignore_index=True)\n",
    "FP_pred = pd.DataFrame(FP_pred.groupby(['item_id'])['yhat'].sum())\n",
    "print(FP_pred.head())"
   ]
  },
  {
   "cell_type": "code",
   "execution_count": 41,
   "metadata": {},
   "outputs": [
    {
     "data": {
      "text/html": [
       "<div>\n",
       "<style scoped>\n",
       "    .dataframe tbody tr th:only-of-type {\n",
       "        vertical-align: middle;\n",
       "    }\n",
       "\n",
       "    .dataframe tbody tr th {\n",
       "        vertical-align: top;\n",
       "    }\n",
       "\n",
       "    .dataframe thead th {\n",
       "        text-align: right;\n",
       "    }\n",
       "</style>\n",
       "<table border=\"1\" class=\"dataframe\">\n",
       "  <thead>\n",
       "    <tr style=\"text-align: right;\">\n",
       "      <th></th>\n",
       "      <th>shop_id</th>\n",
       "      <th>item_id</th>\n",
       "      <th>item_cnt</th>\n",
       "      <th>weight</th>\n",
       "      <th>Prediction</th>\n",
       "    </tr>\n",
       "  </thead>\n",
       "  <tbody>\n",
       "    <tr>\n",
       "      <th>0</th>\n",
       "      <td>2</td>\n",
       "      <td>2269</td>\n",
       "      <td>1.0</td>\n",
       "      <td>0.019608</td>\n",
       "      <td>39.192777</td>\n",
       "    </tr>\n",
       "    <tr>\n",
       "      <th>1</th>\n",
       "      <td>3</td>\n",
       "      <td>2269</td>\n",
       "      <td>1.0</td>\n",
       "      <td>0.019608</td>\n",
       "      <td>39.192777</td>\n",
       "    </tr>\n",
       "    <tr>\n",
       "      <th>2</th>\n",
       "      <td>5</td>\n",
       "      <td>2269</td>\n",
       "      <td>1.0</td>\n",
       "      <td>0.019608</td>\n",
       "      <td>39.192777</td>\n",
       "    </tr>\n",
       "    <tr>\n",
       "      <th>3</th>\n",
       "      <td>6</td>\n",
       "      <td>2269</td>\n",
       "      <td>1.0</td>\n",
       "      <td>0.019608</td>\n",
       "      <td>39.192777</td>\n",
       "    </tr>\n",
       "    <tr>\n",
       "      <th>4</th>\n",
       "      <td>7</td>\n",
       "      <td>2269</td>\n",
       "      <td>2.0</td>\n",
       "      <td>0.039216</td>\n",
       "      <td>39.192777</td>\n",
       "    </tr>\n",
       "  </tbody>\n",
       "</table>\n",
       "</div>"
      ],
      "text/plain": [
       "   shop_id  item_id  item_cnt    weight  Prediction\n",
       "0        2     2269       1.0  0.019608   39.192777\n",
       "1        3     2269       1.0  0.019608   39.192777\n",
       "2        5     2269       1.0  0.019608   39.192777\n",
       "3        6     2269       1.0  0.019608   39.192777\n",
       "4        7     2269       2.0  0.039216   39.192777"
      ]
     },
     "execution_count": 41,
     "metadata": {},
     "output_type": "execute_result"
    }
   ],
   "source": [
    "# Merge store-item weights with item count\n",
    "FP_evaluate = pd.merge(df_weight, FP_pred, on='item_id')\n",
    "FP_evaluate = FP_evaluate.rename(index=str, columns={\"yhat\": \"Prediction\"})\n",
    "FP_evaluate.head()"
   ]
  },
  {
   "cell_type": "code",
   "execution_count": 42,
   "metadata": {},
   "outputs": [
    {
     "name": "stdout",
     "output_type": "stream",
     "text": [
      "   shop_id  item_id    weight  Prediction  Prediction_shop\n",
      "0        2     2269  0.019608   39.192777              1.0\n",
      "1        3     2269  0.019608   39.192777              1.0\n",
      "2        5     2269  0.019608   39.192777              1.0\n",
      "3        6     2269  0.019608   39.192777              1.0\n",
      "4        7     2269  0.039216   39.192777              2.0\n"
     ]
    }
   ],
   "source": [
    "# Calculate store-item count from forecasted data\n",
    "FP_evaluate['Prediction_shop'] = round(FP_evaluate['weight'] * FP_evaluate['Prediction'])\n",
    "FP_evaluate = FP_evaluate.drop('item_cnt',axis=1)\n",
    "print(FP_evaluate.head())"
   ]
  },
  {
   "cell_type": "code",
   "execution_count": 43,
   "metadata": {},
   "outputs": [
    {
     "data": {
      "text/html": [
       "<div>\n",
       "<style scoped>\n",
       "    .dataframe tbody tr th:only-of-type {\n",
       "        vertical-align: middle;\n",
       "    }\n",
       "\n",
       "    .dataframe tbody tr th {\n",
       "        vertical-align: top;\n",
       "    }\n",
       "\n",
       "    .dataframe thead th {\n",
       "        text-align: right;\n",
       "    }\n",
       "</style>\n",
       "<table border=\"1\" class=\"dataframe\">\n",
       "  <thead>\n",
       "    <tr style=\"text-align: right;\">\n",
       "      <th></th>\n",
       "      <th>shop_id</th>\n",
       "      <th>item_id</th>\n",
       "      <th>item_cnt</th>\n",
       "      <th>weight</th>\n",
       "      <th>Prediction</th>\n",
       "      <th>Prediction_shop</th>\n",
       "    </tr>\n",
       "  </thead>\n",
       "  <tbody>\n",
       "    <tr>\n",
       "      <th>0</th>\n",
       "      <td>2</td>\n",
       "      <td>2269</td>\n",
       "      <td>4.0</td>\n",
       "      <td>0.019608</td>\n",
       "      <td>39.192777</td>\n",
       "      <td>1.0</td>\n",
       "    </tr>\n",
       "    <tr>\n",
       "      <th>1</th>\n",
       "      <td>2</td>\n",
       "      <td>2445</td>\n",
       "      <td>1.0</td>\n",
       "      <td>0.000000</td>\n",
       "      <td>0.000000</td>\n",
       "      <td>0.0</td>\n",
       "    </tr>\n",
       "    <tr>\n",
       "      <th>2</th>\n",
       "      <td>2</td>\n",
       "      <td>2808</td>\n",
       "      <td>1.0</td>\n",
       "      <td>0.031250</td>\n",
       "      <td>47.143399</td>\n",
       "      <td>1.0</td>\n",
       "    </tr>\n",
       "    <tr>\n",
       "      <th>3</th>\n",
       "      <td>2</td>\n",
       "      <td>3341</td>\n",
       "      <td>4.0</td>\n",
       "      <td>0.031250</td>\n",
       "      <td>304.111932</td>\n",
       "      <td>10.0</td>\n",
       "    </tr>\n",
       "    <tr>\n",
       "      <th>4</th>\n",
       "      <td>2</td>\n",
       "      <td>3343</td>\n",
       "      <td>2.0</td>\n",
       "      <td>0.018868</td>\n",
       "      <td>274.117766</td>\n",
       "      <td>5.0</td>\n",
       "    </tr>\n",
       "  </tbody>\n",
       "</table>\n",
       "</div>"
      ],
      "text/plain": [
       "   shop_id  item_id  item_cnt    weight  Prediction  Prediction_shop\n",
       "0        2     2269       4.0  0.019608   39.192777              1.0\n",
       "1        2     2445       1.0  0.000000    0.000000              0.0\n",
       "2        2     2808       1.0  0.031250   47.143399              1.0\n",
       "3        2     3341       4.0  0.031250  304.111932             10.0\n",
       "4        2     3343       2.0  0.018868  274.117766              5.0"
      ]
     },
     "execution_count": 43,
     "metadata": {},
     "output_type": "execute_result"
    }
   ],
   "source": [
    "FP_evaluate = pd.merge(df_hold, FP_evaluate,  how='left', left_on=['shop_id','item_id'], \n",
    "                       right_on = ['shop_id','item_id']).fillna(0)\n",
    "FP_evaluate.head()"
   ]
  },
  {
   "cell_type": "code",
   "execution_count": 131,
   "metadata": {
    "scrolled": false
   },
   "outputs": [
    {
     "name": "stdout",
     "output_type": "stream",
     "text": [
      "R2 score: 0.312\n",
      "Mean squared error: 63.910\n"
     ]
    },
    {
     "data": {
      "image/png": "[encoded data removed]",
      "text/plain": [
       "<Figure size 1224x360 with 3 Axes>"
      ]
     },
     "metadata": {},
     "output_type": "display_data"
    }
   ],
   "source": [
    "Model_evaluate(FP_evaluate)"
   ]
  },
  {
   "cell_type": "markdown",
   "metadata": {},
   "source": [
    "### Compare All Four Models"
   ]
  },
  {
   "cell_type": "code",
   "execution_count": 154,
   "metadata": {},
   "outputs": [
    {
     "data": {
      "text/plain": [
       "[<matplotlib.lines.Line2D at 0x134710cf8>]"
      ]
     },
     "execution_count": 154,
     "metadata": {},
     "output_type": "execute_result"
    },
    {
     "data": {
      "image/png": "[encoded data removed]",
      "text/plain": [
       "<Figure size 720x720 with 4 Axes>"
      ]
     },
     "metadata": {},
     "output_type": "display_data"
    }
   ],
   "source": [
    "r2_RF = round(r2(RF_evaluate['item_cnt'], RF_evaluate['Prediction_shop']), 3)\n",
    "r2_GBR = round(r2(GBR_evaluate['item_cnt'], GBR_evaluate['Prediction_shop']), 3)\n",
    "r2_SA = round(r2(SA_evaluate['item_cnt'], SA_evaluate['Prediction_shop']), 3)\n",
    "r2_FP = round(r2(FP_evaluate_trimmed['item_cnt'], FP_evaluate_trimmed['Prediction_shop']), 3)\n",
    "\n",
    "rms_RF = round(rms(RF_evaluate['item_cnt'], RF_evaluate['Prediction_shop']), 3)\n",
    "rms_GBR = round(rms(GBR_evaluate['item_cnt'], GBR_evaluate['Prediction_shop']), 3)\n",
    "rms_SA = round(rms(SA_evaluate['item_cnt'], SA_evaluate['Prediction_shop']), 3)\n",
    "rms_FP = round(rms(FP_evaluate['item_cnt'], FP_evaluate['Prediction_shop']), 3)\n",
    "\n",
    "fs = 15\n",
    "fig, (ax1,ax2,ax3,ax4) = plt.subplots(1,4,figsize=(10,10))\n",
    "\n",
    "ax1 = plt.subplot(2, 2, 1)\n",
    "ax1.scatter(RF_evaluate['item_cnt'], RF_evaluate['Prediction_shop'], s=5)\n",
    "ax1.set_title('Prediction vs Sales, Random Forest', size=fs)\n",
    "ax1.set_ylabel('Prediction', size=fs)\n",
    "ax1.set_xlim(-100,2300)\n",
    "ax1.set_ylim(-100,2300)\n",
    "plt.text(1, 2000, \"R2 Score: %.3f\" % r2_RF, size=12)\n",
    "plt.text(1, 1800, \"Mean squared error: %.3f\" %rms_RF, size=12)\n",
    "ax1.plot(xlim(), ylim(), ls=\"-\", c='r', alpha=.3)\n",
    "\n",
    "ax2 = plt.subplot(2, 2, 2)\n",
    "ax2.scatter(GBR_evaluate['item_cnt'], GBR_evaluate['Prediction_shop'], s=5)\n",
    "ax2.set_title('Prediction vs Sales, Gradient Boosting', size=fs)\n",
    "ax2.set_xlim(-100,2300)\n",
    "ax2.set_ylim(-100,2300)\n",
    "plt.text(1, 2000, \"R2 Score: %.3f\" % r2_GBR, size=12)\n",
    "plt.text(1, 1800, \"Mean squared error: %.3f\" %rms_GBR, size=12)\n",
    "ax2.plot(xlim(), ylim(), ls=\"-\", c='r', alpha=.3)\n",
    "\n",
    "ax3 = plt.subplot(2, 2, 3)\n",
    "ax3.scatter(SA_evaluate['item_cnt'], SA_evaluate['Prediction_shop'], s=5)\n",
    "ax3.set_title('Prediction vs Sales, SARIMA', size=fs)\n",
    "ax3.set_ylabel('Prediction', size=fs)\n",
    "ax3.set_xlabel('Sales', size=fs)\n",
    "ax3.set_xlim(-100,2300)\n",
    "ax3.set_ylim(-100,2300)\n",
    "plt.text(1, 2000, \"R2 Score: %.3f\" % r2_SA, size=12)\n",
    "plt.text(1, 1800, \"Mean squared error: %.3f\" %rms_SA, size=12)\n",
    "ax3.plot(xlim(), ylim(), ls=\"-\", c='r', alpha=.3)\n",
    "\n",
    "ax4 = plt.subplot(2, 2, 4)\n",
    "ax4.scatter(FP_evaluate['item_cnt'], FP_evaluate['Prediction_shop'], s=5)\n",
    "ax4.set_title('Prediction vs Sales, Prophet', size=fs)\n",
    "ax4.set_xlabel('Sales', size=fs)\n",
    "ax4.set_xlim(-100,2300)\n",
    "ax4.set_ylim(-100,2300)\n",
    "plt.text(1, 2000, \"R2 Score: %.3f\" % r2_FP, size=12)\n",
    "plt.text(1, 1800, \"Mean squared error: %.3f\" %rms_FP, size=12)\n",
    "ax4.plot(xlim(), ylim(), ls=\"-\", c='r', alpha=.3)"
   ]
  },
  {
   "cell_type": "code",
   "execution_count": 50,
   "metadata": {},
   "outputs": [
    {
     "data": {
      "image/png": "[encoded data removed]",
      "text/plain": [
       "<Figure size 720x360 with 1 Axes>"
      ]
     },
     "metadata": {},
     "output_type": "display_data"
    }
   ],
   "source": [
    "models = pd.DataFrame({'model':['Baseline','Random Forest','Gradient Boosting','SARIMAX', 'Facebook Prophet'], 'R2 Score':[0.289,0.241,0.268,0.380,0.312]})\n",
    "\n",
    "plt.subplots(figsize=(10,5))\n",
    "plt.bar(models['model'], models['R2 Score'], color=['m','g','b','c','y'])\n",
    "plt.grid(True, axis='y')\n",
    "plt.show()"
   ]
  },
  {
   "cell_type": "markdown",
   "metadata": {},
   "source": [
    "From the chart of R2 scores above, it shows that SARIMAX model has the highest accuracy compared to the other models.\n",
    "\n",
    "\n",
    "Interestingly, only SARIMA and Facebook Prophet models performed better than the baseline model despite both random forest and gradient boosting use more features in building the models. The performances of all models are much lower than their predictions of August and September sales. This is due to the two store-item pairs that all models failed to make accurate predictions. One of them is a single store has sold more than 2000 units of a single item and all models have made predictions of less than 500. And the other one has sold 500 units which all models have made predictions below 30. \n",
    "\n",
    "Let's see how the models perform without the two unexpected sale spikes."
   ]
  },
  {
   "cell_type": "code",
   "execution_count": 101,
   "metadata": {},
   "outputs": [
    {
     "name": "stdout",
     "output_type": "stream",
     "text": [
      "     shop_id  item_id  item_cnt  Prediction_shop\n",
      "182       12    11373    2253.0            172.0\n",
      "184       12    20949     500.0             12.0\n",
      "     shop_id  item_id  item_cnt  Prediction_shop\n",
      "182       12    11373    2253.0            208.0\n",
      "184       12    20949     500.0             22.0\n",
      "     shop_id  item_id  item_cnt  weight  Prediction  Prediction_shop\n",
      "182       12    11373    2253.0     1.0  390.703584            391.0\n",
      "184       12    20949     500.0     0.0    0.000000              0.0\n",
      "     shop_id  item_id  item_cnt  weight  Prediction  Prediction_shop\n",
      "182       12    11373    2253.0     1.0  289.658529            290.0\n",
      "184       12    20949     500.0     0.0    0.000000              0.0\n"
     ]
    }
   ],
   "source": [
    "# All of the models stumble on the same abnormal sales spikes\n",
    "print(RF_evaluate.loc[RF_evaluate['item_cnt'] >= 500])\n",
    "print(GBR_evaluate.loc[GBR_evaluate['item_cnt'] >= 500])\n",
    "print(SA_evaluate.loc[SA_evaluate['item_cnt'] >= 500])\n",
    "print(FP_evaluate.loc[FP_evaluate['item_cnt'] >= 500])"
   ]
  },
  {
   "cell_type": "code",
   "execution_count": 102,
   "metadata": {},
   "outputs": [],
   "source": [
    "RF_evaluate_trimmed = RF_evaluate[RF_evaluate.item_cnt < 500]\n",
    "GBR_evaluate_trimmed = GBR_evaluate[GBR_evaluate.item_cnt < 500]\n",
    "SA_evaluate_trimmed = SA_evaluate[SA_evaluate.item_cnt < 500]\n",
    "FP_evaluate_trimmed = FP_evaluate[FP_evaluate.item_cnt < 500]"
   ]
  },
  {
   "cell_type": "code",
   "execution_count": 164,
   "metadata": {},
   "outputs": [
    {
     "data": {
      "text/plain": [
       "[<matplotlib.lines.Line2D at 0x13623a908>]"
      ]
     },
     "execution_count": 164,
     "metadata": {},
     "output_type": "execute_result"
    },
    {
     "data": {
      "image/png": "[encoded data removed]",
      "text/plain": [
       "<Figure size 720x720 with 4 Axes>"
      ]
     },
     "metadata": {},
     "output_type": "display_data"
    }
   ],
   "source": [
    "r2_RF = round(r2(RF_evaluate_trimmed['item_cnt'], RF_evaluate_trimmed['Prediction_shop']), 3)\n",
    "r2_GBR = round(r2(GBR_evaluate_trimmed['item_cnt'], GBR_evaluate_trimmed['Prediction_shop']), 3)\n",
    "r2_SA = round(r2(SA_evaluate_trimmed['item_cnt'], SA_evaluate_trimmed['Prediction_shop']), 3)\n",
    "r2_FP = round(r2(FP_evaluate_trimmed['item_cnt'], FP_evaluate_trimmed['Prediction_shop']), 3)\n",
    "\n",
    "rms_RF = round(rms(RF_evaluate_trimmed['item_cnt'], RF_evaluate_trimmed['Prediction_shop']), 3)\n",
    "rms_GBR = round(rms(GBR_evaluate_trimmed['item_cnt'], GBR_evaluate_trimmed['Prediction_shop']), 3)\n",
    "rms_SA = round(rms(SA_evaluate_trimmed['item_cnt'], SA_evaluate_trimmed['Prediction_shop']), 3)\n",
    "rms_FP = round(rms(FP_evaluate_trimmed['item_cnt'], FP_evaluate_trimmed['Prediction_shop']), 3)\n",
    "\n",
    "fs = 15\n",
    "fig, (ax1,ax2,ax3,ax4) = plt.subplots(1,4,figsize=(10,10))\n",
    "\n",
    "ax1 = plt.subplot(2, 2, 1)\n",
    "ax1.scatter(RF_evaluate_trimmed['item_cnt'], RF_evaluate_trimmed['Prediction_shop'], s=5)\n",
    "ax1.set_title('Prediction vs Sales, Random Forest', size=fs)\n",
    "ax1.set_ylabel('Prediction', size=fs)\n",
    "plt.text(150, 0, \"R2 Score: %.3f\" % r2_RF, size=12)\n",
    "plt.text(150, -30, \"Mean squared error: %.3f\" %rms_RF, size=12)\n",
    "ax1.plot(xlim(), ylim(), ls=\"-\", c='r', alpha=.3)\n",
    "\n",
    "ax2 = plt.subplot(2, 2, 2)\n",
    "ax2.scatter(GBR_evaluate_trimmed['item_cnt'], GBR_evaluate_trimmed['Prediction_shop'], s=5)\n",
    "ax2.set_title('Prediction vs Sales, Gradient Boosting', size=fs)\n",
    "plt.text(150, 0, \"R2 Score: %.3f\" % r2_GBR, size=12)\n",
    "plt.text(150, -30, \"Mean squared error: %.3f\" %rms_GBR, size=12)\n",
    "ax2.plot(xlim(), ylim(), ls=\"-\", c='r', alpha=.3)\n",
    "\n",
    "ax3 = plt.subplot(2, 2, 3)\n",
    "ax3.scatter(SA_evaluate_trimmed['item_cnt'], SA_evaluate_trimmed['Prediction_shop'], s=5)\n",
    "ax3.set_title('Prediction vs Sales, SARIMA', size=fs)\n",
    "ax3.set_ylabel('Prediction', size=fs)\n",
    "ax3.set_xlabel('Sales', size=fs)\n",
    "plt.text(150, 0, \"R2 Score: %.3f\" % r2_SA, size=12)\n",
    "plt.text(150, -30, \"Mean squared error: %.3f\" %rms_SA, size=12)\n",
    "ax3.plot(xlim(), ylim(), ls=\"-\", c='r', alpha=.3)\n",
    "\n",
    "ax4 = plt.subplot(2, 2, 4)\n",
    "ax4.scatter(FP_evaluate_trimmed['item_cnt'], FP_evaluate_trimmed['Prediction_shop'], s=5)\n",
    "ax4.set_title('Prediction vs Sales, Prophet', size=fs)\n",
    "ax4.set_xlabel('Sales', size=fs)\n",
    "plt.text(150, 0, \"R2 Score: %.3f\" % r2_FP, size=12)\n",
    "plt.text(150, -30, \"Mean squared error: %.3f\" %rms_FP, size=12)\n",
    "ax4.plot(xlim(), ylim(), ls=\"-\", c='r', alpha=.3)"
   ]
  },
  {
   "cell_type": "code",
   "execution_count": 107,
   "metadata": {},
   "outputs": [
    {
     "data": {
      "image/png": "[encoded data removed]",
      "text/plain": [
       "<Figure size 720x360 with 1 Axes>"
      ]
     },
     "metadata": {},
     "output_type": "display_data"
    }
   ],
   "source": [
    "models = pd.DataFrame({'model':['Baseline','Random Forest','Gradient Boosting','SARIMAX', 'Facebook Prophet'], 'R2 Score':[0.936,0.935,0.945,0.925,0.897]})\n",
    "\n",
    "plt.subplots(figsize=(10,5))\n",
    "plt.bar(models['model'], models['R2 Score'], color=['m','g','b','c','y'])\n",
    "plt.grid(True, axis='y')\n",
    "plt.show()"
   ]
  },
  {
   "cell_type": "markdown",
   "metadata": {},
   "source": [
    "After removing these two abnormal records, all models including baseline have very high R2 score on the rest of the predictions on sales data of Oct 2015. And surprisingly, the actually performed almost no better than the baseline model. \n",
    "\n",
    "This is explainable for both random forest and gradient boosting models, which last month sales is the feature with importance has higher importance than all other features combined. Therefore, it makes sense that these two models would mimic baseline model based on feature importance."
   ]
  },
  {
   "cell_type": "code",
   "execution_count": null,
   "metadata": {},
   "outputs": [],
   "source": []
  }
 ],
 "metadata": {
  "kernelspec": {
   "display_name": "Python 3",
   "language": "python",
   "name": "python3"
  },
  "language_info": {
   "codemirror_mode": {
    "name": "ipython",
    "version": 3
   },
   "file_extension": ".py",
   "mimetype": "text/x-python",
   "name": "python",
   "nbconvert_exporter": "python",
   "pygments_lexer": "ipython3",
   "version": "3.6.6"
  }
 },
 "nbformat": 4,
 "nbformat_minor": 2
}
